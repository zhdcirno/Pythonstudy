{
 "cells": [
  {
   "cell_type": "markdown",
   "metadata": {},
   "source": [
    "# while 循环\n",
    "- 一个循环语句\n",
    "- 表示当某条件成立的时候，就循环\n",
    "- 不知道具体的循环次数，但能确定循环的成立条件的时候用while循环\n",
    "- while语法:\n",
    "      \n",
    "      \n",
    "      while 条件表达式：\n",
    "          语句块\n",
    "      \n",
    "      # 另外一种表达方法\n",
    "      while 条件表达式：\n",
    "          语句块1\n",
    "      else：\n",
    "          语句块2"
   ]
  },
  {
   "cell_type": "code",
   "execution_count": 2,
   "metadata": {},
   "outputs": [
    {
     "name": "stdout",
     "output_type": "stream",
     "text": [
      "第1年拿了106700.0块钱\n",
      "第2年拿了113848.9块钱\n",
      "第3年拿了121476.77629999998块钱\n",
      "第4年拿了129615.72031209998块钱\n",
      "第5年拿了138299.97357301068块钱\n",
      "第6年拿了147566.07180240238块钱\n",
      "第7年拿了157452.99861316333块钱\n",
      "第8年拿了168002.34952024528块钱\n",
      "第9年拿了179258.5069381017块钱\n",
      "第10年拿了191268.8269029545块钱\n",
      "第11年拿了204083.83830545243块钱\n"
     ]
    }
   ],
   "source": [
    "# 如果年利率是6.7%，，本利是每年翻滚，则多少年后本钱会翻倍\n",
    "\n",
    "benqian = 100000\n",
    "year = 0\n",
    "while benqian < 200000:\n",
    "    benqian = benqian * (1+0.067)\n",
    "    year += 1\n",
    "    print(\"第{0}年拿了{1}块钱\".format(year,benqian))"
   ]
  },
  {
   "cell_type": "code",
   "execution_count": 3,
   "metadata": {},
   "outputs": [
    {
     "name": "stdout",
     "output_type": "stream",
     "text": [
      "第1年拿了106700.0块钱\n",
      "第2年拿了113848.9块钱\n",
      "第3年拿了121476.77629999998块钱\n",
      "第4年拿了129615.72031209998块钱\n",
      "第5年拿了138299.97357301068块钱\n",
      "第6年拿了147566.07180240238块钱\n",
      "第7年拿了157452.99861316333块钱\n",
      "第8年拿了168002.34952024528块钱\n",
      "第9年拿了179258.5069381017块钱\n",
      "第10年拿了191268.8269029545块钱\n",
      "第11年拿了204083.83830545243块钱\n",
      "终于翻倍了\n"
     ]
    }
   ],
   "source": [
    "# 如果年利率是6.7%，，本利是每年翻滚，则多少年后本钱会翻倍\n",
    "# 如果拿到的钱翻倍，则打印\n",
    "\n",
    "benqian = 100000\n",
    "year = 0\n",
    "while benqian < 200000:\n",
    "    benqian = benqian * (1+0.067)\n",
    "    year += 1\n",
    "    print(\"第{0}年拿了{1}块钱\".format(year,benqian))\n",
    "else:\n",
    "    print(\"终于翻倍了\")"
   ]
  },
  {
   "cell_type": "markdown",
   "metadata": {},
   "source": [
    "# 函数\n",
    "- 代码的一种组织形式\n",
    "- 一个函数一般完成一项特定功能\n",
    "- 函数使用\n",
    "    - 函数需要先定义\n",
    "    - 使用函数，俗称调用"
   ]
  },
  {
   "cell_type": "code",
   "execution_count": 4,
   "metadata": {
    "collapsed": true
   },
   "outputs": [],
   "source": [
    "# 定义一个函数\n",
    "#只是定义的话，不会执行\n",
    "# 1.def关键字，后面跟一个空格\n",
    "# 2.函数名，自己定义，起名需要遵循命名规则，约定俗称，大驼峰命名只给类用\n",
    "# 3.后面括号和冒号不能省略，括号内可以有参数\n",
    "# 4.函数内所有代码缩进\n",
    "def func():\n",
    "    print(\"我是一个函数\")\n",
    "    print(\"我要完成一定的功能\")\n",
    "    print(\"我完成了\")"
   ]
  },
  {
   "cell_type": "code",
   "execution_count": 5,
   "metadata": {},
   "outputs": [
    {
     "name": "stdout",
     "output_type": "stream",
     "text": [
      "我是一个函数\n",
      "我要完成一定的功能\n",
      "我完成了\n"
     ]
    }
   ],
   "source": [
    "# 函数的调用\n",
    "# 直接函数名称后面跟括号\n",
    "func()"
   ]
  },
  {
   "cell_type": "markdown",
   "metadata": {},
   "source": [
    "## 函数的参数和返回值\n",
    "- 参数：负责给函数传递一些必要的数据或者信息\n",
    "    - 形参（形式参数）：定义时没有参数的具体值，只是一个占位符\n",
    "    - 实参（实际参数）：在调用函数的时候输入的值\n",
    "- 返回值：函数的执行结果\n",
    "    - 使用return关键字\n",
    "    - 如果没有return，则默认返回一个None\n",
    "    - 函数一旦执行return语句，则无条件返回，结束函数的执行\n"
   ]
  },
  {
   "cell_type": "code",
   "execution_count": 19,
   "metadata": {},
   "outputs": [
    {
     "name": "stdout",
     "output_type": "stream",
     "text": [
      "key your name:123\n",
      "123,你好呀\n",
      "今天也是充满希望的一天\n"
     ]
    }
   ],
   "source": [
    "# 参数的定义和使用\n",
    "# 参数person只是一个符号，代表的是调用的时候的一个数据\n",
    "# 调用的时候，用p的值代替函数中所有的person\n",
    "def hello(person):\n",
    "    print(\"{0},你好呀\".format(person))\n",
    "    print(\"今天也是充满希望的一天\")\n",
    "\n",
    "p = input(\"key your name:\")\n",
    "hello(p)"
   ]
  },
  {
   "cell_type": "code",
   "execution_count": 9,
   "metadata": {},
   "outputs": [
    {
     "name": "stdout",
     "output_type": "stream",
     "text": [
      "明月,你好呀\n",
      "今天也是充满希望的一天\n",
      "我已经和明月打招呼了，明月不理我\n"
     ]
    }
   ],
   "source": [
    "# return语句的使用\n",
    "# 函数打完招呼后返回一句话\n",
    "def hello(person):\n",
    "    print(\"{0},你好呀\".format(person))\n",
    "    print(\"今天也是充满希望的一天\")\n",
    "    \n",
    "    return \"我已经和{0}打招呼了，{1}不理我\".format(person,person)\n",
    "\n",
    "p = \"明月\"\n",
    "rst = hello(p)\n",
    "\n",
    "print(rst)"
   ]
  },
  {
   "cell_type": "code",
   "execution_count": 23,
   "metadata": {},
   "outputs": [
    {
     "name": "stdout",
     "output_type": "stream",
     "text": [
      "lian,你好呀\n",
      "结束了\n"
     ]
    }
   ],
   "source": [
    "# return cass 2\n",
    "\n",
    "def hello(person):\n",
    "    print(\"{0},你好呀\".format(person))\n",
    "    return(\"结束了\")\n",
    "    print(\"今天也是充满希望的一天\")\n",
    "    \n",
    "    return \"我已经和{0}打招呼了，{1}不理我\".format(person,person)\n",
    "\n",
    "p = \"lian\"\n",
    "rst = hello(p)\n",
    "\n",
    "print(rst)"
   ]
  },
  {
   "cell_type": "code",
   "execution_count": 24,
   "metadata": {},
   "outputs": [
    {
     "name": "stdout",
     "output_type": "stream",
     "text": [
      "Help on built-in function print in module builtins:\n",
      "\n",
      "print(...)\n",
      "    print(value, ..., sep=' ', end='\\n', file=sys.stdout, flush=False)\n",
      "    \n",
      "    Prints the values to a stream, or to sys.stdout by default.\n",
      "    Optional keyword arguments:\n",
      "    file:  a file-like object (stream); defaults to the current sys.stdout.\n",
      "    sep:   string inserted between values, default a space.\n",
      "    end:   string appended after the last value, default a newline.\n",
      "    flush: whether to forcibly flush the stream.\n",
      "\n"
     ]
    }
   ],
   "source": [
    "# 查找函数帮助文档\n",
    "# 1.help函数\n",
    "help(print)"
   ]
  },
  {
   "cell_type": "code",
   "execution_count": 29,
   "metadata": {},
   "outputs": [
    {
     "name": "stdout",
     "output_type": "stream",
     "text": [
      "1 -------------------------\n",
      "2 4 -------------------------\n",
      "3 6 9 -------------------------\n",
      "4 8 12 16 -------------------------\n",
      "5 10 15 20 25 -------------------------\n",
      "6 12 18 24 30 36 -------------------------\n",
      "7 14 21 28 35 42 49 -------------------------\n",
      "8 16 24 32 40 48 56 64 -------------------------\n",
      "9 18 27 36 45 54 63 72 81 -------------------------\n"
     ]
    }
   ],
   "source": [
    "# 九九乘法表\n",
    "# ver 1.0\n",
    "\n",
    "for row in range(1,10):\n",
    "    # 打印一行\n",
    "    for col in range(1,row+1):\n",
    "        #print 默认打印完后换行\n",
    "        print(row * col, end = \" \")\n",
    "    print(\"-------------------------\")"
   ]
  },
  {
   "cell_type": "code",
   "execution_count": 52,
   "metadata": {},
   "outputs": [
    {
     "name": "stdout",
     "output_type": "stream",
     "text": [
      "你要打印几行呢？9\n",
      "1*1=1\t\n",
      "2*1=2\t2*2=4\t\n",
      "3*1=3\t3*2=6\t3*3=9\t\n",
      "4*1=4\t4*2=8\t4*3=12\t4*4=16\t\n",
      "5*1=5\t5*2=10\t5*3=15\t5*4=20\t5*5=25\t\n",
      "6*1=6\t6*2=12\t6*3=18\t6*4=24\t6*5=30\t6*6=36\t\n",
      "7*1=7\t7*2=14\t7*3=21\t7*4=28\t7*5=35\t7*6=42\t7*7=49\t\n",
      "8*1=8\t8*2=16\t8*3=24\t8*4=32\t8*5=40\t8*6=48\t8*7=56\t8*8=64\t\n",
      "9*1=9\t9*2=18\t9*3=27\t9*4=36\t9*5=45\t9*6=54\t9*7=63\t9*8=72\t9*9=81\t\n"
     ]
    }
   ],
   "source": [
    "#定义一个函数，打印一行久久乘法表\n",
    "def printline(row):\n",
    "    for col in range(1,row+1):\n",
    "        #print 默认打印完后换行\n",
    "        print(row,\"*\",col,\"=\",row * col,sep = \"\",end = \"\\t\")\n",
    "    print(\"\")\n",
    "hang = input(\"你要打印几行呢？\") \n",
    "hang = int (hang)\n",
    "for row in range(1,hang+1):\n",
    "    printline(row)"
   ]
  },
  {
   "cell_type": "markdown",
   "metadata": {},
   "source": [
    "# 参数详解\n",
    "- 参考资料 https://www.cnblogs.com/bingabcd/p/6671368.html\n",
    "- python参考资料：headfirst Python，零基础入门学习Python（小甲鱼）本讲义参考流程的Python，习题，腾讯公开课\n",
    "- 参数分类\n",
    "    - 普通参数\n",
    "    - 默认参数\n",
    "    - 关键字参数\n",
    "    - 收集参数\n",
    "    \n",
    "- 普通参数\n",
    "    - 参加上例\n",
    "    - 定义的时候直接定义变量名\n",
    "    - 调用的时候直接吧变量或者值放入指定位置\n",
    "    \n",
    "    \n",
    "    \n",
    "             def 函数名（参数1，参数2...):\n",
    "                 函数体\n",
    "                 \n",
    "             # 调用\n",
    "             函数名（value1，value2....)\n",
    "             \n",
    "             # 调用的时候，具体参考的位置，按位置赋值\n",
    "             \n",
    "- 默然参数\n",
    "    - 形参带有默认的数值\n",
    "    - 调用的时候，如果没有对相应的形参赋值，则使用默认值\n",
    "    \n",
    "             def func name(p1=v1,p2=v1,......):\n",
    "                 fanc_block\n",
    "                 \n",
    "             #调用1\n",
    "             fanc_name()\n",
    "             \n",
    "             #调用2\n",
    "             value1=100\n",
    "             value2=200\n",
    "             fanc_name(value1,value2)"
   ]
  },
  {
   "cell_type": "code",
   "execution_count": 54,
   "metadata": {
    "collapsed": true
   },
   "outputs": [],
   "source": [
    "# 默认参数实例\n",
    "# 报名函数，需要知道学生性别\n",
    "# 学习Python的基本都是男生\n",
    "def reg(name,age,gender=\"male\"):\n",
    "    if gender == \"male\":\n",
    "        print(\"{0}is{1},and he is a good student\".format(name,age))\n",
    "    else:\n",
    "        print(\"{0}is{1},and she is a good student\".format(name,age))"
   ]
  },
  {
   "cell_type": "code",
   "execution_count": 56,
   "metadata": {},
   "outputs": [
    {
     "name": "stdout",
     "output_type": "stream",
     "text": [
      "xiaomingis32,and he is a good student\n",
      "xiaom1is12,and she is a good student\n"
     ]
    }
   ],
   "source": [
    "# 调用默认参数\n",
    "\n",
    "reg(\"xiaoming\",32)\n",
    "\n",
    "reg(\"xiaom1\",12,\"female\")"
   ]
  },
  {
   "cell_type": "code",
   "execution_count": 63,
   "metadata": {},
   "outputs": [
    {
     "name": "stdout",
     "output_type": "stream",
     "text": [
      "请输入长度：5\n",
      "请输入宽度：5\n",
      "* * * * * \n",
      "* * * * * \n",
      "* * * * * \n",
      "* * * * * \n",
      "* * * * * \n"
     ]
    }
   ],
   "source": [
    "# 打印长宽分别为x，y的长方形\n",
    "# 输入x，y\n",
    "x = input(\"请输入长度：\")\n",
    "y = input(\"请输入宽度：\")\n",
    "x = int(x)\n",
    "y = int(y)\n",
    "for h in range(1,y+1):\n",
    "    for g in range(1,x+1):\n",
    "        print(\"*\",end = \" \")\n",
    "    print(\"\")"
   ]
  }
 ],
 "metadata": {
  "kernelspec": {
   "display_name": "Python 3",
   "language": "python",
   "name": "python3"
  },
  "language_info": {
   "codemirror_mode": {
    "name": "ipython",
    "version": 3
   },
   "file_extension": ".py",
   "mimetype": "text/x-python",
   "name": "python",
   "nbconvert_exporter": "python",
   "pygments_lexer": "ipython3",
   "version": "3.6.3"
  }
 },
 "nbformat": 4,
 "nbformat_minor": 2
}
