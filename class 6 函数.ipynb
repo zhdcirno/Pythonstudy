{
 "cells": [
  {
   "cell_type": "markdown",
   "metadata": {
    "collapsed": true
   },
   "source": [
    "## 关键字参数\n",
    "- 语法\n",
    "\n",
    "        def fanc(p1=v1,p2=v2,...)\n",
    "            fanc_body\n",
    "            \n",
    "        调用函数：\n",
    "        fanc(p1=value1,p2=value2......)\n",
    "        \n",
    "- 比较麻烦，但也有好处：\n",
    "    - 不容易混淆，一般实参和形参只是按照位置一一对应即可，容易出错\n",
    "    - 使用关键字参数，可以不用考虑参数的位置"
   ]
  },
  {
   "cell_type": "code",
   "execution_count": 6,
   "metadata": {},
   "outputs": [
    {
     "name": "stdout",
     "output_type": "stream",
     "text": [
      "i am a student\n",
      "我叫wd，我今年28岁了，我住在world\n"
     ]
    }
   ],
   "source": [
    "# 关键字参数案例\n",
    "def stu(name,age,addr):\n",
    "    print(\"i am a student\")\n",
    "    print(\"我叫{0}，我今年{1}岁了，我住在{2}\".format(name,age,addr))\n",
    "    \n",
    "n = \"wd\"\n",
    "a = 28\n",
    "addr = \"world\"\n",
    "\n",
    "def stu_key(name=\"no name\", age=0, addr=\"no addr\"):\n",
    "    print(\"i am a student\")\n",
    "    print(\"我叫{0}，我今年{1}岁了，我住在{2}\".format(name,age,addr))\n",
    "    \n",
    "n = \"wd\"\n",
    "a = 28\n",
    "addr = \"world\"\n",
    "\n",
    "stu_key(name=n, age=a, addr=addr)"
   ]
  },
  {
   "cell_type": "markdown",
   "metadata": {},
   "source": [
    "## 收集参数\n",
    "- 把没有位置，不能定义时的参数位置相对应的参数，放入一个特定的数据结构中\n",
    "- 语法\n",
    "\n",
    "        def fanc(*args):\n",
    "            fanc_body\n",
    "            \n",
    "        调用：\n",
    "        fanc(p1, p2, p3, ...)\n",
    "- 参数名称args不是必须的，但是推荐使用\n",
    "- 参数吗args前必须由*号\n",
    "- 收集参数可以和其他参数共存"
   ]
  },
  {
   "cell_type": "code",
   "execution_count": 13,
   "metadata": {},
   "outputs": [
    {
     "name": "stdout",
     "output_type": "stream",
     "text": [
      "hello,大家好，我先说两句\n",
      "<class 'tuple'>\n",
      "wd\n",
      "22\n",
      "xianshi\n",
      "wd\n",
      "sd\n",
      "hello,大家好，我先说两句\n",
      "<class 'tuple'>\n",
      "myx\n"
     ]
    }
   ],
   "source": [
    "# 收集参数代码\n",
    "# 函数模拟一个学生自我介绍，但具体内容不清楚\n",
    "def stu(*args):\n",
    "    print(\"hello,大家好，我先说两句\")\n",
    "    print(type(args))\n",
    "    for item in args:\n",
    "        print(item)\n",
    "    pass\n",
    "\n",
    "stu(\"wd\", 22, \"xianshi\", \"wd\", \"sd\")\n",
    "    \n",
    "stu(\"myx\")"
   ]
  },
  {
   "cell_type": "code",
   "execution_count": 15,
   "metadata": {},
   "outputs": [
    {
     "name": "stdout",
     "output_type": "stream",
     "text": [
      "hello,大家好，我先说两句\n",
      "<class 'tuple'>\n"
     ]
    }
   ],
   "source": [
    "# 收集参数可以不带任何实参调用\n",
    "stu()"
   ]
  },
  {
   "cell_type": "markdown",
   "metadata": {},
   "source": [
    "## 收集参数之关键字收集参数\n",
    "- 把关键字参数按照字典格式存入收集参数\n",
    "- 语法\n",
    "\n",
    "        def fanc(**kwargs)\n",
    "            fanc_body\n",
    "            \n",
    "        #调用：\n",
    "        fanc(p1=v1, p1=v2,...)\n",
    "        \n",
    "    - kwargs是约定俗称的参数名称\n",
    "    - 调用的时候，把多余关键字参数放入kwargs\n",
    "    - 访问kwargs需要按照字典格式访问"
   ]
  },
  {
   "cell_type": "code",
   "execution_count": 17,
   "metadata": {},
   "outputs": [
    {
     "ename": "TypeError",
     "evalue": "stu() got an unexpected keyword argument 'name'",
     "output_type": "error",
     "traceback": [
      "\u001b[0;31m---------------------------------------------------------------------------\u001b[0m",
      "\u001b[0;31mTypeError\u001b[0m                                 Traceback (most recent call last)",
      "\u001b[0;32m<ipython-input-17-9766bdddeeb3>\u001b[0m in \u001b[0;36m<module>\u001b[0;34m()\u001b[0m\n\u001b[1;32m      1\u001b[0m \u001b[0;31m# error\u001b[0m\u001b[0;34m\u001b[0m\u001b[0;34m\u001b[0m\u001b[0m\n\u001b[0;32m----> 2\u001b[0;31m \u001b[0mstu\u001b[0m\u001b[0;34m(\u001b[0m\u001b[0mname\u001b[0m\u001b[0;34m=\u001b[0m\u001b[0;34m\"s\"\u001b[0m\u001b[0;34m)\u001b[0m\u001b[0;34m\u001b[0m\u001b[0m\n\u001b[0m",
      "\u001b[0;31mTypeError\u001b[0m: stu() got an unexpected keyword argument 'name'"
     ]
    }
   ],
   "source": [
    "# error\n",
    "stu(name=\"s\")"
   ]
  },
  {
   "cell_type": "code",
   "execution_count": 26,
   "metadata": {},
   "outputs": [
    {
     "name": "stdout",
     "output_type": "stream",
     "text": [
      "hello 大家好，我自我介绍一下：\n",
      "<class 'dict'>\n",
      "name --- ss\n",
      "age --- 22\n",
      "addr --- xian\n",
      "lover --- wd\n",
      "work --- student\n",
      "********************\n",
      "hello 大家好，我自我介绍一下：\n",
      "<class 'dict'>\n",
      "name --- 周大婶\n"
     ]
    }
   ],
   "source": [
    "# 收集参数案例\n",
    "# 自我介绍\n",
    "# 调用的时候需要使用关键字参数调用\n",
    "def stu( **kwargs):\n",
    "    print(\"hello 大家好，我自我介绍一下：\")\n",
    "    print(type(kwargs))\n",
    "    #字典的使用\n",
    "    for k,v in kwargs.items():\n",
    "        print(k, \"---\", v)\n",
    "stu(name=\"ss\", age=22, addr= \"xian\", lover=\"wd\", work=\"student\")\n",
    "print(\"*\"*20)\n",
    "\n",
    "stu(name=\"周大婶\")"
   ]
  },
  {
   "cell_type": "code",
   "execution_count": 28,
   "metadata": {},
   "outputs": [
    {
     "name": "stdout",
     "output_type": "stream",
     "text": [
      "hello 大家好，我自我介绍一下：\n",
      "<class 'dict'>\n"
     ]
    }
   ],
   "source": [
    "# 收集参数可以为空\n",
    "stu()"
   ]
  },
  {
   "cell_type": "code",
   "execution_count": null,
   "metadata": {
    "collapsed": true
   },
   "outputs": [],
   "source": []
  }
 ],
 "metadata": {
  "kernelspec": {
   "display_name": "Python 3",
   "language": "python",
   "name": "python3"
  },
  "language_info": {
   "codemirror_mode": {
    "name": "ipython",
    "version": 3
   },
   "file_extension": ".py",
   "mimetype": "text/x-python",
   "name": "python",
   "nbconvert_exporter": "python",
   "pygments_lexer": "ipython3",
   "version": "3.6.3"
  }
 },
 "nbformat": 4,
 "nbformat_minor": 2
}
