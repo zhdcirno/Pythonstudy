{
 "cells": [
  {
   "cell_type": "markdown",
   "metadata": {},
   "source": [
    "# 字符串\n",
    "- 转义字符\n",
    "- 格式化\n",
    "- 内建函数（后延）\n",
    "\n",
    "## 转义字符\n",
    "- 用一个特殊的方法表示出一系列不方便写出的内容，比如回车键，换行，退格键\n",
    "- 借助反斜杠字符，一旦出现，内后面几个字符已经不是原来的字符\n",
    "- 要加倍小写转义字符\n",
    "  - win：\\n\n",
    "  - linux: \\r\\n"
   ]
  },
  {
   "cell_type": "code",
   "execution_count": 2,
   "metadata": {},
   "outputs": [
    {
     "name": "stdout",
     "output_type": "stream",
     "text": [
      "i love wangdan\n"
     ]
    }
   ],
   "source": [
    "s = \"i love wangdan\"\n",
    "print(s)"
   ]
  },
  {
   "cell_type": "code",
   "execution_count": 6,
   "metadata": {},
   "outputs": [
    {
     "name": "stdout",
     "output_type": "stream",
     "text": [
      "Let's go\n",
      "Let's go\n",
      "c:\\user\n",
      "i love \r\n",
      " wangdan\n"
     ]
    }
   ],
   "source": [
    "#如果表示出Let‘s go\n",
    "#1，可以使用嵌套引号\n",
    "#2，转义字符\n",
    "s = \"Let's go\"\n",
    "print(s)\n",
    "#\\' == '\n",
    "s = 'Let\\'s go'\n",
    "print(s)\n",
    "\n",
    "#\\\\ == \\\n",
    "s = 'c:\\\\user'\n",
    "print(s)\n",
    "\n",
    "#回车换行符\n",
    "s1 = \"i love \\r\\n wangdan\"\n",
    "print(s1)"
   ]
  },
  {
   "cell_type": "markdown",
   "metadata": {},
   "source": [
    "## 字符串的格式化\n",
    "- 吧字符串按照一定格式打印或者填充\n",
    "- 格式化的2种方法\n",
    "  - 利用百分号%\n",
    "  - 利用format函数"
   ]
  },
  {
   "cell_type": "code",
   "execution_count": 7,
   "metadata": {
    "collapsed": true
   },
   "outputs": [],
   "source": [
    "s = \"xxx,您好\""
   ]
  },
  {
   "cell_type": "markdown",
   "metadata": {},
   "source": [
    "## 利用百分号格式化\n",
    "- 在字符串中，利用%表示一个特殊的含义，表示对字符进行格式化\n",
    "- %d：此处应该放入一个整数\n",
    "- %s：表示此处应该放入一个字符串"
   ]
  },
  {
   "cell_type": "code",
   "execution_count": 9,
   "metadata": {},
   "outputs": [
    {
     "name": "stdout",
     "output_type": "stream",
     "text": [
      "i love %s\n"
     ]
    }
   ],
   "source": [
    "s = \"i love %s\"\n",
    "# 直接打印出%s\n",
    "print(s)"
   ]
  },
  {
   "cell_type": "code",
   "execution_count": 2,
   "metadata": {},
   "outputs": [
    {
     "name": "stdout",
     "output_type": "stream",
     "text": [
      "love wangdan\n"
     ]
    }
   ],
   "source": [
    "print(\"love %s\"%\"wangdan\")\n"
   ]
  },
  {
   "cell_type": "code",
   "execution_count": 14,
   "metadata": {},
   "outputs": [
    {
     "name": "stdout",
     "output_type": "stream",
     "text": [
      "i love wangdan\n"
     ]
    }
   ],
   "source": [
    "print(s%\"wangdan\")"
   ]
  },
  {
   "cell_type": "code",
   "execution_count": 15,
   "metadata": {},
   "outputs": [
    {
     "name": "stdout",
     "output_type": "stream",
     "text": [
      "i am %d years old\n",
      "i am 18 years old\n"
     ]
    }
   ],
   "source": [
    "s = \"i am %d years old\"\n",
    "print(s)\n",
    "print(s%18)"
   ]
  },
  {
   "cell_type": "code",
   "execution_count": 17,
   "metadata": {},
   "outputs": [
    {
     "name": "stdout",
     "output_type": "stream",
     "text": [
      "i am %s, i am %d years old\n",
      "i am 123, i am 242 years old\n"
     ]
    }
   ],
   "source": [
    "s = \"i am %s, i am %d years old\"\n",
    "print(s)\n",
    "# 注意以下表达式出错的原因\n",
    "# 如果字符串由占位符，则由几个占位符必须用几个实际内容代替，或者一个不要\n",
    "# print(s%\"tu\")\n",
    "\n",
    "print(s%(123,242))"
   ]
  },
  {
   "cell_type": "markdown",
   "metadata": {},
   "source": [
    "## format函数格式化字符串\n",
    "- 直接用format函数进行格式化\n",
    "- 推荐这种\n",
    "- 使用上，以{}和：代替%，后面用format带参数完成"
   ]
  },
  {
   "cell_type": "code",
   "execution_count": 20,
   "metadata": {},
   "outputs": [
    {
     "name": "stdout",
     "output_type": "stream",
     "text": [
      "i love wangdan\n",
      "yes, i am 18 years old , i love wangdan and i am 18 years old\n"
     ]
    }
   ],
   "source": [
    "s = \"i love {}\".format(\"wangdan\")\n",
    "print(s)\n",
    "\n",
    "s = \"yes, i am {1} years old , i love {0} and i am {1} years old\".format(\"wangdan\",18)\n",
    "print(s)\n"
   ]
  },
  {
   "cell_type": "markdown",
   "metadata": {},
   "source": [
    "## None\n",
    "- 表示什么都没有\n",
    "- 如果函数么有返回值，可以返回 None\n",
    "- 用来占位置\n",
    "- 用来解除变量的绑定"
   ]
  },
  {
   "cell_type": "markdown",
   "metadata": {},
   "source": [
    "# 表达式\n",
    "- 一个或者几个数字或者变量和运算符组合成的一行代码\n",
    "- 通常会返回一个结果\n",
    "# 运算符\n",
    "- 由一个以上的值经过变化得到薪值的过程叫运算\n",
    "- 用于运算的符号叫运算符\n",
    "- 运算符分类：\n",
    "  - 算数运算符\n",
    "  - 比较或者关系运算符\n",
    "  - 赋值运算符\n",
    "  - 逻辑运算符\n",
    "  - 位运算\n",
    "  - 成员运算\n",
    "  - 身份运算符"
   ]
  },
  {
   "cell_type": "markdown",
   "metadata": {},
   "source": [
    "## 算数运算符\n",
    "- 进行算术运算的符号\n",
    "- python没有自增自减运算符"
   ]
  },
  {
   "cell_type": "code",
   "execution_count": 23,
   "metadata": {},
   "outputs": [
    {
     "name": "stdout",
     "output_type": "stream",
     "text": [
      "11 36 2.25\n",
      "1\n",
      "1 2 27\n"
     ]
    }
   ],
   "source": [
    "# +，-和正常运算符一样\n",
    "a1 = 9+3-1\n",
    "# 乘号用(*)代替\n",
    "a2 = 9*4\n",
    "# 除号用（/—）代替\n",
    "a3 = 9/4\n",
    "print(a1,a2,a3)\n",
    "\n",
    "#  % 取余数运算\n",
    "#　两个数字相除由商数有余数\n",
    "# ％只会得到余数\n",
    "a4 = 9 % 4 \n",
    "print(a4)\n",
    "\n",
    "# // 表示取商运算，也叫地板擦\n",
    "a5 = 9 // 4\n",
    "\n",
    "# ** 表示幂运算\n",
    "a6 = 3 ** 3\n",
    "\n",
    "print(a4,a5,a6)"
   ]
  },
  {
   "cell_type": "markdown",
   "metadata": {},
   "source": [
    "## 比较运算符i\n",
    "- 对于两个变量或者值进行比较的运算符\n",
    "- 比较的结果是布尔值，即Ｔｒｕｅ／Ｆａｌｓｅ"
   ]
  },
  {
   "cell_type": "code",
   "execution_count": 27,
   "metadata": {},
   "outputs": [
    {
     "name": "stdout",
     "output_type": "stream",
     "text": [
      "False\n"
     ]
    }
   ],
   "source": [
    "# == ,等于８０\n",
    "a = 3 ** 4\n",
    "b = a == 80\n",
    "print(b)\n",
    "\n",
    "# != 不等于\n",
    "# > 大于,,等等"
   ]
  },
  {
   "cell_type": "markdown",
   "metadata": {},
   "source": [
    "## 赋值运算符\n",
    "-"
   ]
  },
  {
   "cell_type": "code",
   "execution_count": 28,
   "metadata": {},
   "outputs": [
    {
     "name": "stdout",
     "output_type": "stream",
     "text": [
      "7\n"
     ]
    }
   ],
   "source": [
    "# = ,赋值\n",
    "a = 0\n",
    "c = a =4\n",
    "\n",
    "# +=,是缩写，\n",
    "a = 0\n",
    "a += 7  # a = a + 7\n",
    "print(a)"
   ]
  },
  {
   "cell_type": "markdown",
   "metadata": {},
   "source": [
    "## 逻辑运算符\n",
    "- 对布尔值进行计算的符号\n",
    "- and 逻辑与\n",
    "- or\n",
    "- not\n",
    "- Python中没有异或运算\n",
    "- 运算规则：\n",
    "  - and看做乘法，or看做加法\n",
    "  - Ture看做1，False看做0\n",
    "  - 则逻辑运算就能转换成证书数学运算\n",
    "  - 最后结果为0为False，否则为Ture\n",
    "- 逻辑运算的短路问题\n",
    "  - 逻辑运算式，按照运算顺序计算，一旦能够确定整个式子未来的值，则不再进行计算，直接返回"
   ]
  },
  {
   "cell_type": "code",
   "execution_count": 30,
   "metadata": {},
   "outputs": [
    {
     "name": "stdout",
     "output_type": "stream",
     "text": [
      "True\n"
     ]
    }
   ],
   "source": [
    "# 短路案例\n",
    "\n",
    "# a一定为Ture\n",
    "a = True or xxxxxxxx\n",
    "print(a)"
   ]
  },
  {
   "cell_type": "code",
   "execution_count": 31,
   "metadata": {},
   "outputs": [
    {
     "name": "stdout",
     "output_type": "stream",
     "text": [
      "True\n"
     ]
    }
   ],
   "source": [
    "# 逻辑运算符案例\n",
    "a = True\n",
    "b = False\n",
    "c = True\n",
    "#下面式子等价于 d = 1 * 0 + 1\n",
    "d = a and b or c\n",
    "print(d)"
   ]
  },
  {
   "cell_type": "markdown",
   "metadata": {},
   "source": [
    "# 成员运算符号\n",
    "- 用来检测一个变量是不是另一个变量的成员\n",
    "- in\n",
    "- not in"
   ]
  },
  {
   "cell_type": "code",
   "execution_count": 32,
   "metadata": {},
   "outputs": [
    {
     "name": "stdout",
     "output_type": "stream",
     "text": [
      "False\n",
      "True\n",
      "False\n"
     ]
    }
   ],
   "source": [
    "# 案例\n",
    "l = {1,2,3,4,5}\n",
    "a = 7\n",
    "\n",
    "b = a in l\n",
    "print(b)\n",
    "\n",
    "a = 4\n",
    "print(a in l)\n",
    "\n",
    "print(a not in l)"
   ]
  },
  {
   "cell_type": "markdown",
   "metadata": {},
   "source": [
    "## 身份运算\n",
    "- is:用来检测两个变量是否是同一个变量\n",
    "- 语法就是  var1 is var2\n",
    "- not is 两个变量不是用一个变量"
   ]
  },
  {
   "cell_type": "code",
   "execution_count": 35,
   "metadata": {},
   "outputs": [
    {
     "name": "stdout",
     "output_type": "stream",
     "text": [
      "True\n",
      "False\n"
     ]
    }
   ],
   "source": [
    "a = 9\n",
    "b = 9\n",
    "print( a is b )\n",
    "\n",
    "a = \"123  a\"\n",
    "b = \"123  a\"\n",
    "print( a is b )"
   ]
  },
  {
   "cell_type": "markdown",
   "metadata": {},
   "source": [
    "## 运算符的优先级问题\n",
    "- 永远记住，括号具有最高优先级\n",
    "- 优先级表格"
   ]
  },
  {
   "cell_type": "markdown",
   "metadata": {},
   "source": [
    "# 程序结构\n",
    "- 顺序\n",
    "- 分支\n",
    "- 循环"
   ]
  }
 ],
 "metadata": {
  "kernelspec": {
   "display_name": "Python 3",
   "language": "python",
   "name": "python3"
  },
  "language_info": {
   "codemirror_mode": {
    "name": "ipython",
    "version": 3
   },
   "file_extension": ".py",
   "mimetype": "text/x-python",
   "name": "python",
   "nbconvert_exporter": "python",
   "pygments_lexer": "ipython3",
   "version": "3.6.3"
  }
 },
 "nbformat": 4,
 "nbformat_minor": 2
}
