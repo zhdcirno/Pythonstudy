{
 "cells": [
  {
   "cell_type": "code",
   "execution_count": 4,
   "metadata": {},
   "outputs": [
    {
     "name": "stdout",
     "output_type": "stream",
     "text": [
      "hai,my name is LIU YING\n",
      "hai,my name is MINGYAOXIN\n"
     ]
    }
   ],
   "source": [
    "# 属性案例\n",
    "# 创建Student类，描述学生类\n",
    "# =学生具有student.name属性\n",
    "# 但name格式并不统一\n",
    "# 可以用增加一个函数，然后自动调用的方式，但是很麻烦\n",
    "class Student():\n",
    "    def __init__(self,name,age):\n",
    "        self.name = name\n",
    "        self.age = age\n",
    "        \n",
    "        self.setName(name)\n",
    "        \n",
    "    def intro(self):\n",
    "        print(\"hai,my name is {0}\".format(self.name))\n",
    "        \n",
    "    def setName(self,name):\n",
    "        self.name = name.upper()\n",
    "        \n",
    "        \n",
    "s1 = Student(\"liu ying\", 19)\n",
    "s2 = Student(\"mingyaoxin\", 24)\n",
    "\n",
    "s1.intro()\n",
    "s2.intro()"
   ]
  },
  {
   "cell_type": "markdown",
   "metadata": {},
   "source": [
    "# 5. 类的成员描述符（属性）\n",
    "- 类的成员描述符是为了在类中对类的成员属性进行相关操作而创建的一种方式\n",
    "    - get： 获取属性的操作\n",
    "    - set： 修改或者添加属性操作\n",
    "    - delete： 删除属性操作\n",
    "- 如果想使用类的成员描述符，大概有三种方法\n",
    "    - 使用类实现描述器\n",
    "    - 使用属性修饰符\n",
    "    - 使用property函数\n",
    "        - property(fget, fset, fdel, doc)\n",
    "    - 案例\n",
    "- 无论那种修饰符都是为了对成员属性进行相应的控制\n",
    "    - 类的方式： 适合多个类中的多个属性共用一个描述符\n",
    "    - property： 使用当前类中使用，可以控制一个类中多个属性\n",
    "    - 属性修饰符：适用与当前类中使用，控制一个类中的一个属性\n",
    "    \n",
    "# 6. 类的内置属性\n",
    "\n",
    "            __dict__：以字典的方式显示类的成员组成\n",
    "            __doc__: 获取类的文档信息\n",
    "            __name__:获取类的名称，如果在模块中使用，获取模块的名称\n",
    "            __bases__:获取某个类的所有父类，以元祖的方式\n",
    "            _"
   ]
  },
  {
   "cell_type": "code",
   "execution_count": 11,
   "metadata": {
    "collapsed": true
   },
   "outputs": [],
   "source": [
    "# peroperty案例\n",
    "# 定义一个Person类，具有name，age属性\n",
    "# 对于任意输入的姓名，我们希望都用大写方式保存\n",
    "# 年龄，统一使用整数保存\n",
    "# x = property(fget, fset, fdel, doc)\n",
    "\n",
    "class Person():\n",
    "    '''\n",
    "    这是一个人（这里是说明文档）\n",
    "    '''\n",
    "    # 函数名称可以任意\n",
    "    def fget(self):\n",
    "        return self._name * 2\n",
    "    \n",
    "    def fset(self,name):\n",
    "    # 所有输入的姓名以大写形式保存\n",
    "        self._name = name.upper()\n",
    "        \n",
    "    def fdel(self):\n",
    "        self._name = \"NoName\"\n",
    "        \n",
    "    name = property(fget, fset, fdel, \"对name进行操作\")\n",
    "\n",
    "# 作业\n",
    "# 1，在用户输入年龄的时候，可以输入整数，小数，浮点数\n",
    "# 2.但内部为了数据清洁，我们统一保存整数，直接舍去小数点"
   ]
  },
  {
   "cell_type": "code",
   "execution_count": 8,
   "metadata": {},
   "outputs": [
    {
     "name": "stdout",
     "output_type": "stream",
     "text": [
      "TULINGTULING\n"
     ]
    }
   ],
   "source": [
    "p1 = Person()\n",
    "p1.name = \"tuling\"\n",
    "print(p1.name)"
   ]
  },
  {
   "cell_type": "code",
   "execution_count": 13,
   "metadata": {},
   "outputs": [
    {
     "name": "stdout",
     "output_type": "stream",
     "text": [
      "{'__module__': '__main__', '__doc__': '\\n    这是一个人（这里是说明文档）\\n    ', 'fget': <function Person.fget at 0x7f6381082d90>, 'fset': <function Person.fset at 0x7f6381082f28>, 'fdel': <function Person.fdel at 0x7f6381082c80>, 'name': <property object at 0x7f63810927c8>, '__dict__': <attribute '__dict__' of 'Person' objects>, '__weakref__': <attribute '__weakref__' of 'Person' objects>}\n",
      "\n",
      "    这是一个人（这里是说明文档）\n",
      "    \n",
      "Person\n",
      "(<class 'object'>,)\n"
     ]
    }
   ],
   "source": [
    "# 类的内置属性举例\n",
    "print(Person.__dict__)\n",
    "print(Person.__doc__)\n",
    "print(Person.__name__)\n",
    "print(Person.__bases__)"
   ]
  },
  {
   "cell_type": "markdown",
   "metadata": {
    "collapsed": true
   },
   "source": [
    "# 7. 类的 常用魔术方法\n",
    "- 魔法方法就是不需要认为调用的方法，基本是在特定的时刻自动触发\n",
    "- 魔术方法的统一的特征，方法名前后各被两个下划线包裹\n",
    "- __init__: 构造函数\n",
    "- __new__: 对象实例化方法，次函数比较特殊，一般不需要使用\n",
    "- __call__: 对象当函数使用时触发\n",
    "- __str__: 当对象被当成字符串的时候调用\n",
    "- __repr__: 返回字符串\n",
    "\n",
    "- 描述符相关\n",
    "- __set__:\n",
    "- __get__:\n",
    "- __delete__:\n",
    "\n",
    "- 属性操作相关\n",
    "- __getattr__: 访问一个不存在的属性时触发\n",
    "- __setattr__: 对成员属性进行设置的时候触发\n",
    "    - 参数： \n",
    "        - self用来获取当前对象\n",
    "        - 被设置的属性名称，以字符串的形式出现\n",
    "        - 需要对属性名称设置的值\n",
    "    - 作用： 进行属性设置的时候进行验证或者修改\n",
    "    - 注意： 该发放不能进行赋值操作**\n",
    "- 运算分类相关魔术方法\n",
    "    - __gt__ : 进行大于判断的时候触发的函数\n",
    "        - 参数：\n",
    "            - self\n",
    "            - 第二个参数是第二个对象\n",
    "            - 返回值可以是任意值，但推荐返回布尔值"
   ]
  },
  {
   "cell_type": "code",
   "execution_count": 1,
   "metadata": {},
   "outputs": [
    {
     "name": "stdout",
     "output_type": "stream",
     "text": [
      "被调用了\n"
     ]
    }
   ],
   "source": [
    "# init 举例\n",
    "class A():\n",
    "    def __init__(self, name = 0):\n",
    "        print(\"被调用了\")\n",
    "        \n",
    "a = A()"
   ]
  },
  {
   "cell_type": "code",
   "execution_count": 3,
   "metadata": {},
   "outputs": [
    {
     "name": "stdout",
     "output_type": "stream",
     "text": [
      "被调用了\n",
      "又被调用了\n"
     ]
    }
   ],
   "source": [
    "# __call__ 案例\n",
    "class A():\n",
    "    def __init__(self, name = 0):\n",
    "        print(\"被调用了\")\n",
    "    def __call__(self):\n",
    "        print(\"又被调用了\")\n",
    "        \n",
    "a = A()\n",
    "a()"
   ]
  },
  {
   "cell_type": "code",
   "execution_count": 3,
   "metadata": {},
   "outputs": [
    {
     "name": "stdout",
     "output_type": "stream",
     "text": [
      "NoName\n",
      "没有找到\n",
      "addr\n",
      "None\n"
     ]
    }
   ],
   "source": [
    "# getattr\n",
    "\n",
    "class A():\n",
    "    name = \"NoName\"\n",
    "    age = 18\n",
    "    def __getattr__(self,name):\n",
    "        print(\"没有找到\")\n",
    "        print(name)\n",
    "        \n",
    "a = A()\n",
    "print(a.name)\n",
    "print(a.addr)\n",
    "# 作业，\n",
    "# 为什么会打印None"
   ]
  },
  {
   "cell_type": "code",
   "execution_count": 1,
   "metadata": {},
   "outputs": [
    {
     "name": "stdout",
     "output_type": "stream",
     "text": [
      "被调用了\n",
      "又被调用了\n",
      "str 的例子\n"
     ]
    }
   ],
   "source": [
    "# __call__ 案例\n",
    "class A():\n",
    "    def __init__(self, name = 0):\n",
    "        print(\"被调用了\")\n",
    "    def __call__(self):\n",
    "        print(\"又被调用了\")\n",
    "    def __str__(self):\n",
    "        return \"str 的例子\"\n",
    "a = A()\n",
    "a()\n",
    "print(a)"
   ]
  },
  {
   "cell_type": "code",
   "execution_count": 7,
   "metadata": {},
   "outputs": [
    {
     "name": "stdout",
     "output_type": "stream",
     "text": [
      "{}\n",
      "设置属性：age\n"
     ]
    }
   ],
   "source": [
    "# __setattr__ 案例\n",
    "class Person():\n",
    "    def __init__(self):\n",
    "        pass\n",
    "    def __setattr__(self,name,value):\n",
    "        print(\"设置属性：{0}\".format(name))\n",
    "        \n",
    "        # 下面语句会导致问题，死循环\n",
    "        # self.name = value\n",
    "        # 此种情况，为了避免死循环，规定统一调用父类魔法函数\n",
    "        super().__setattr__(name,value)\n",
    "        \n",
    "p = Person()\n",
    "print(p.__dict__)\n",
    "p.age = 18\n"
   ]
  },
  {
   "cell_type": "code",
   "execution_count": 13,
   "metadata": {},
   "outputs": [
    {
     "name": "stdout",
     "output_type": "stream",
     "text": [
      "哈哈，<__main__.Student object at 0x7f812f770278>会比<__main__.Student object at 0x7f812f770630>大\n",
      "False\n"
     ]
    }
   ],
   "source": [
    "# __gt__ # 案例\n",
    "\n",
    "class Student():\n",
    "    def __init__(self,name):\n",
    "        self.name = name\n",
    "    \n",
    "    def __gt__(self, obj):\n",
    "        print(\"哈哈，{0}会比{1}大\".format(self,obj))\n",
    "        return self.name > obj.name\n",
    "    \n",
    "# 作业： 字符串的比较规则\n",
    "stu1 = Student(\"one\")\n",
    "stu2 = Student(\"two\")\n",
    "print(stu1 > stu2)\n",
    "\n",
    "# 作业：下面结果不美观，能改成好吗"
   ]
  },
  {
   "cell_type": "markdown",
   "metadata": {},
   "source": [
    "# 8. 类和对象的三种方法\n",
    "- 实例方法\n",
    "    - 需要实例化对象才能使用的方法，使用过程中可以需要截止对象的其他对象的方法\n",
    "- 静态方法\n",
    "    - 不需要实例化，通过类直接访问\n",
    "- 类方法\n",
    "    - 不需要实例化 "
   ]
  },
  {
   "cell_type": "code",
   "execution_count": 33,
   "metadata": {},
   "outputs": [
    {
     "name": "stdout",
     "output_type": "stream",
     "text": [
      "1\n",
      "eating_\n",
      "<class '__main__.Person'>\n",
      "playing\n",
      "<class '__main__.Person'>\n",
      "playing\n",
      "saying\n",
      "saying\n"
     ]
    }
   ],
   "source": [
    "# 三种方法的案例\n",
    "class Person:\n",
    "    # 实例方法\n",
    "    def eat(self):\n",
    "        print(self)\n",
    "        print(\"eating_\")\n",
    "        \n",
    "    # 类方法\n",
    "    # 类方法的第一个参数，一般命名为cls，但区别与self\n",
    "    @classmethod\n",
    "    def play(cls):\n",
    "        print(cls)\n",
    "        print(\"playing\")\n",
    "        \n",
    "    # 静态方法\n",
    "    # 不需要第一个参数表示自身或类\n",
    "    @staticmethod\n",
    "    def say():\n",
    "        print(\"saying\")\n",
    "        \n",
    "yueyue = Person\n",
    "\n",
    "# 实例方法\n",
    "yueyue.eat(1)\n",
    "# 类方法\n",
    "Person.play()\n",
    "yueyue.play()\n",
    "# 静态方法\n",
    "Person.say()\n",
    "yueyue.say()\n",
    "\n",
    "# 作业： 查找三种方法内存方面的区别"
   ]
  }
 ],
 "metadata": {
  "kernelspec": {
   "display_name": "Python 3",
   "language": "python",
   "name": "python3"
  },
  "language_info": {
   "codemirror_mode": {
    "name": "ipython",
    "version": 3
   },
   "file_extension": ".py",
   "mimetype": "text/x-python",
   "name": "python",
   "nbconvert_exporter": "python",
   "pygments_lexer": "ipython3",
   "version": "3.6.3"
  }
 },
 "nbformat": 4,
 "nbformat_minor": 2
}
