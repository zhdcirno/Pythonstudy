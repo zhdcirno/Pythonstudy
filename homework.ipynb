{
 "cells": [
  {
   "cell_type": "code",
   "execution_count": 7,
   "metadata": {},
   "outputs": [
    {
     "name": "stdout",
     "output_type": "stream",
     "text": [
      "您要打印几边形呢？5.5\n"
     ]
    },
    {
     "ename": "ValueError",
     "evalue": "invalid literal for int() with base 10: '5.5'",
     "output_type": "error",
     "traceback": [
      "\u001b[0;31m---------------------------------------------------------------------------\u001b[0m",
      "\u001b[0;31mValueError\u001b[0m                                Traceback (most recent call last)",
      "\u001b[0;32m<ipython-input-7-ea713e807d19>\u001b[0m in \u001b[0;36m<module>\u001b[0;34m()\u001b[0m\n\u001b[1;32m      1\u001b[0m \u001b[0;32mimport\u001b[0m \u001b[0mturtle\u001b[0m\u001b[0;34m\u001b[0m\u001b[0m\n\u001b[1;32m      2\u001b[0m \u001b[0;34m\u001b[0m\u001b[0m\n\u001b[0;32m----> 3\u001b[0;31m \u001b[0mx\u001b[0m \u001b[0;34m=\u001b[0m \u001b[0mint\u001b[0m\u001b[0;34m(\u001b[0m\u001b[0minput\u001b[0m\u001b[0;34m(\u001b[0m\u001b[0;34m\"您要打印几边形呢？\"\u001b[0m\u001b[0;34m)\u001b[0m\u001b[0;34m)\u001b[0m\u001b[0;34m\u001b[0m\u001b[0m\n\u001b[0m\u001b[1;32m      4\u001b[0m \u001b[0;34m\u001b[0m\u001b[0m\n\u001b[1;32m      5\u001b[0m \u001b[0;34m\u001b[0m\u001b[0m\n",
      "\u001b[0;31mValueError\u001b[0m: invalid literal for int() with base 10: '5.5'"
     ]
    }
   ],
   "source": [
    "import turtle\n",
    "\n",
    "x = int(input(\"您要打印几边形呢？\"))\n",
    "\n",
    "\n",
    "\n",
    "for x1 in range(1,x):\n",
    "    turtle.forward(400/x)\n",
    "    turtle.right(180-(180*(x-2))/x)\n",
    "else:\n",
    "    turtle.forward(400/x)\n",
    "\n",
    "\n",
    "turtle.exitonclick()"
   ]
  },
  {
   "cell_type": "code",
   "execution_count": 22,
   "metadata": {},
   "outputs": [
    {
     "name": "stdout",
     "output_type": "stream",
     "text": [
      "请输入长度：5\n",
      "请输入宽度：4\n",
      "* * * * * \n",
      "* * * * * \n",
      "* * * * * \n",
      "* * * * * \n"
     ]
    }
   ],
   "source": [
    "# 打印长宽分别为x，y的长方形\n",
    "# 输入x，y\n",
    "x = int(input(\"请输入长度：\"))\n",
    "y = int(input(\"请输入宽度：\"))\n",
    "for h in range(1,y+1):\n",
    "    for g in range(1,x+1):\n",
    "        print(\"*\",end = \" \")\n",
    "    print(\"\")"
   ]
  },
  {
   "cell_type": "code",
   "execution_count": 21,
   "metadata": {},
   "outputs": [
    {
     "name": "stdout",
     "output_type": "stream",
     "text": [
      "你要打印几行呢？12\n",
      "1*1=1\t\n",
      "2*1=2\t2*2=4\t\n",
      "3*1=3\t3*2=6\t3*3=9\t\n",
      "4*1=4\t4*2=8\t4*3=12\t4*4=16\t\n",
      "5*1=5\t5*2=10\t5*3=15\t5*4=20\t5*5=25\t\n",
      "6*1=6\t6*2=12\t6*3=18\t6*4=24\t6*5=30\t6*6=36\t\n",
      "7*1=7\t7*2=14\t7*3=21\t7*4=28\t7*5=35\t7*6=42\t7*7=49\t\n",
      "8*1=8\t8*2=16\t8*3=24\t8*4=32\t8*5=40\t8*6=48\t8*7=56\t8*8=64\t\n",
      "9*1=9\t9*2=18\t9*3=27\t9*4=36\t9*5=45\t9*6=54\t9*7=63\t9*8=72\t9*9=81\t\n",
      "10*1=10\t10*2=20\t10*3=30\t10*4=40\t10*5=50\t10*6=60\t10*7=70\t10*8=80\t10*9=90\t10*10=100\t\n",
      "11*1=11\t11*2=22\t11*3=33\t11*4=44\t11*5=55\t11*6=66\t11*7=77\t11*8=88\t11*9=99\t11*10=110\t11*11=121\t\n",
      "12*1=12\t12*2=24\t12*3=36\t12*4=48\t12*5=60\t12*6=72\t12*7=84\t12*8=96\t12*9=108\t12*10=120\t12*11=132\t12*12=144\t\n"
     ]
    }
   ],
   "source": [
    "#定义一个函数，打印一行久久乘法表\n",
    "def printline(row):\n",
    "    for col in range(1,row+1):\n",
    "        #print 默认打印完后换行\n",
    "        print(row,\"*\",col,\"=\",row * col,sep = \"\",end = \"\\t\")\n",
    "    print(\"\")\n",
    "hang = input(\"你要打印几行呢？\") \n",
    "hang = int (hang)\n",
    "for row in range(1,hang+1):\n",
    "    printline(row)"
   ]
  },
  {
   "cell_type": "code",
   "execution_count": 1,
   "metadata": {
    "scrolled": false
   },
   "outputs": [
    {
     "name": "stdout",
     "output_type": "stream",
     "text": [
      "请输入长度：3\n",
      "请输入宽度：5\n",
      "* * * \n",
      "*   * \n",
      "*   * \n",
      "*   * \n",
      "* * * \n"
     ]
    }
   ],
   "source": [
    "# 空心长方体\n",
    "x = int(input(\"请输入长度：\"))\n",
    "y = int(input(\"请输入宽度：\"))\n",
    "\n",
    "for h in range(1,y+1):\n",
    "    for g in range(1,x+1):\n",
    "        if (h == 1) or g == 1 or (h==y) or (g==x):\n",
    "            print(\"*\",end=\" \")\n",
    "        else:\n",
    "            print(\" \",end=\" \")\n",
    "    print(\"\")"
   ]
  },
  {
   "cell_type": "code",
   "execution_count": 7,
   "metadata": {},
   "outputs": [
    {
     "name": "stdout",
     "output_type": "stream",
     "text": [
      "一共几层？4\n",
      "第1次移动 A --> B\n",
      "第2次移动 A --> C\n",
      "第3次移动 B --> C\n",
      "第4次移动 A --> B\n",
      "第5次移动 C --> A\n",
      "第6次移动 C --> B\n",
      "第7次移动 A --> B\n",
      "第8次移动 A --> C\n",
      "第9次移动 B --> C\n",
      "第10次移动 B --> A\n",
      "第11次移动 C --> A\n",
      "第12次移动 B --> C\n",
      "第13次移动 A --> B\n",
      "第14次移动 A --> C\n",
      "第15次移动 B --> C\n",
      "移动结束，一共移动了15次\n"
     ]
    }
   ],
   "source": [
    "y = 1\n",
    "def hanoi(n, a, b, c):\n",
    "    global y\n",
    "    if n == 1:       \n",
    "        print(\"第{0}次移动\".format(y),a, \"-->\", c)\n",
    "        y += 1\n",
    "    else:\n",
    "        hanoi(n - 1, a, c, b)\n",
    "        print(\"第{0}次移动\".format(y),a, \"-->\", c)\n",
    "        y += 1\n",
    "        hanoi(n - 1, b, a, c)\n",
    "    \n",
    "        \n",
    "# 调用\n",
    "x = int(input(\"一共几层？\"))\n",
    "hanoi(x, 'A', 'B', 'C')\n",
    "print(\"移动结束，一共移动了{0}次\".format(y-1))"
   ]
  },
  {
   "cell_type": "code",
   "execution_count": 2,
   "metadata": {},
   "outputs": [
    {
     "name": "stdout",
     "output_type": "stream",
     "text": [
      "一共几层？2\n",
      "第1动 A --> B\n",
      "第2次移动 A --> C\n",
      "第3动 B --> C\n",
      "移动结束，一共移动了3次\n"
     ]
    }
   ],
   "source": [
    "y = 1\n",
    "def hanoi(n, a, b, c):\n",
    "    global y\n",
    "    if n == 1:       \n",
    "        print(\"第{0}动\".format(y),a, \"-->\", c)\n",
    "        y += 1\n",
    "    else:\n",
    "        hanoi(n - 1, a, c, b)\n",
    "        print(\"第{0}次移动\".format(y),a, \"-->\", c)\n",
    "        y += 1\n",
    "        hanoi(n - 1, b, a, c)\n",
    "    \n",
    "        \n",
    "# 调用\n",
    "x = int(input(\"一共几层？\"))\n",
    "hanoi(x, 'A', 'B', 'C')\n",
    "print(\"移动结束，一共移动了{0}次\".format(y-1))"
   ]
  },
  {
   "cell_type": "code",
   "execution_count": 5,
   "metadata": {},
   "outputs": [
    {
     "name": "stdout",
     "output_type": "stream",
     "text": [
      "Help on class list in module builtins:\n",
      "\n",
      "class list(object)\n",
      " |  list() -> new empty list\n",
      " |  list(iterable) -> new list initialized from iterable's items\n",
      " |  \n",
      " |  Methods defined here:\n",
      " |  \n",
      " |  __add__(self, value, /)\n",
      " |      Return self+value.\n",
      " |  \n",
      " |  __contains__(self, key, /)\n",
      " |      Return key in self.\n",
      " |  \n",
      " |  __delitem__(self, key, /)\n",
      " |      Delete self[key].\n",
      " |  \n",
      " |  __eq__(self, value, /)\n",
      " |      Return self==value.\n",
      " |  \n",
      " |  __ge__(self, value, /)\n",
      " |      Return self>=value.\n",
      " |  \n",
      " |  __getattribute__(self, name, /)\n",
      " |      Return getattr(self, name).\n",
      " |  \n",
      " |  __getitem__(...)\n",
      " |      x.__getitem__(y) <==> x[y]\n",
      " |  \n",
      " |  __gt__(self, value, /)\n",
      " |      Return self>value.\n",
      " |  \n",
      " |  __iadd__(self, value, /)\n",
      " |      Implement self+=value.\n",
      " |  \n",
      " |  __imul__(self, value, /)\n",
      " |      Implement self*=value.\n",
      " |  \n",
      " |  __init__(self, /, *args, **kwargs)\n",
      " |      Initialize self.  See help(type(self)) for accurate signature.\n",
      " |  \n",
      " |  __iter__(self, /)\n",
      " |      Implement iter(self).\n",
      " |  \n",
      " |  __le__(self, value, /)\n",
      " |      Return self<=value.\n",
      " |  \n",
      " |  __len__(self, /)\n",
      " |      Return len(self).\n",
      " |  \n",
      " |  __lt__(self, value, /)\n",
      " |      Return self<value.\n",
      " |  \n",
      " |  __mul__(self, value, /)\n",
      " |      Return self*value.n\n",
      " |  \n",
      " |  __ne__(self, value, /)\n",
      " |      Return self!=value.\n",
      " |  \n",
      " |  __new__(*args, **kwargs) from builtins.type\n",
      " |      Create and return a new object.  See help(type) for accurate signature.\n",
      " |  \n",
      " |  __repr__(self, /)\n",
      " |      Return repr(self).\n",
      " |  \n",
      " |  __reversed__(...)\n",
      " |      L.__reversed__() -- return a reverse iterator over the list\n",
      " |  \n",
      " |  __rmul__(self, value, /)\n",
      " |      Return self*value.\n",
      " |  \n",
      " |  __setitem__(self, key, value, /)\n",
      " |      Set self[key] to value.\n",
      " |  \n",
      " |  __sizeof__(...)\n",
      " |      L.__sizeof__() -- size of L in memory, in bytes\n",
      " |  \n",
      " |  append(...)\n",
      " |      L.append(object) -> None -- append object to end\n",
      " |  \n",
      " |  clear(...)\n",
      " |      L.clear() -> None -- remove all items from L\n",
      " |  \n",
      " |  copy(...)\n",
      " |      L.copy() -> list -- a shallow copy of L\n",
      " |  \n",
      " |  count(...)\n",
      " |      L.count(value) -> integer -- return number of occurrences of value\n",
      " |  \n",
      " |  extend(...)\n",
      " |      L.extend(iterable) -> None -- extend list by appending elements from the iterable\n",
      " |  \n",
      " |  index(...)\n",
      " |      L.index(value, [start, [stop]]) -> integer -- return first index of value.\n",
      " |      Raises ValueError if the value is not present.\n",
      " |  \n",
      " |  insert(...)\n",
      " |      L.insert(index, object) -- insert object before index\n",
      " |  \n",
      " |  pop(...)\n",
      " |      L.pop([index]) -> item -- remove and return item at index (default last).\n",
      " |      Raises IndexError if list is empty or index is out of range.\n",
      " |  \n",
      " |  remove(...)\n",
      " |      L.remove(value) -> None -- remove first occurrence of value.\n",
      " |      Raises ValueError if the value is not present.\n",
      " |  \n",
      " |  reverse(...)\n",
      " |      L.reverse() -- reverse *IN PLACE*\n",
      " |  \n",
      " |  sort(...)\n",
      " |      L.sort(key=None, reverse=False) -> None -- stable sort *IN PLACE*\n",
      " |  \n",
      " |  ----------------------------------------------------------------------\n",
      " |  Data and other attributes defined here:\n",
      " |  \n",
      " |  __hash__ = None\n",
      "\n"
     ]
    }
   ],
   "source": [
    "help(list)"
   ]
  },
  {
   "cell_type": "code",
   "execution_count": 10,
   "metadata": {},
   "outputs": [
    {
     "name": "stdout",
     "output_type": "stream",
     "text": [
      "654\n",
      "5\n"
     ]
    }
   ],
   "source": [
    "num = input()\n",
    "l = list(num)\n",
    "print(l[1])"
   ]
  },
  {
   "cell_type": "code",
   "execution_count": null,
   "metadata": {
    "collapsed": true
   },
   "outputs": [],
   "source": []
  }
 ],
 "metadata": {
  "kernelspec": {
   "display_name": "Python 3",
   "language": "python",
   "name": "python3"
  },
  "language_info": {
   "codemirror_mode": {
    "name": "ipython",
    "version": 3
   },
   "file_extension": ".py",
   "mimetype": "text/x-python",
   "name": "python",
   "nbconvert_exporter": "python",
   "pygments_lexer": "ipython3",
   "version": "3.6.3"
  }
 },
 "nbformat": 4,
 "nbformat_minor": 2
}
