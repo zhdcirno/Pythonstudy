{
 "cells": [
  {
   "cell_type": "markdown",
   "metadata": {},
   "source": [
    "# 分支\n",
    "- 分支的基本语法\n",
    "  - if 条件表达式：\n",
    "       语句1\n",
    "       语句2\n",
    "       语句3\n",
    "    、、、、、\n",
    "- 条件表达式就是计算结果必须为布尔值的表达式\n",
    "- 表达式后的冒号不能省略\n",
    "- 注意if后面出现的语句，如果属于if语句块，则必须同一个锁紧等级\n",
    "- 条件表达式结果为True，执行if后面的锁紧的语句块"
   ]
  },
  {
   "cell_type": "code",
   "execution_count": 1,
   "metadata": {},
   "outputs": [
    {
     "name": "stdout",
     "output_type": "stream",
     "text": [
      "去叫家长\n",
      "不带你玩\n",
      "gun\n"
     ]
    }
   ],
   "source": [
    "# if语句练习\n",
    "# 如果age小于18，则打印信息 去叫家长\n",
    "age = 17 \n",
    "if age < 18:\n",
    "    print(\"去叫家长\")\n",
    "    print(\"不带你玩\")\n",
    "    print(\"gun\")"
   ]
  },
  {
   "cell_type": "code",
   "execution_count": 4,
   "metadata": {},
   "outputs": [
    {
     "name": "stdout",
     "output_type": "stream",
     "text": [
      "开始上车，老司机们\n"
     ]
    }
   ],
   "source": [
    "# if语句练习\n",
    "# 如果age小于18，则打印信息 去叫家长\n",
    "age = 19 \n",
    "if age < 18:\n",
    "    print(\"去叫家长\")\n",
    "    print(\"不带你玩\")\n",
    "    print(\"gun\")\n",
    "    \n",
    "print(\"开始上车，老司机们\")"
   ]
  },
  {
   "cell_type": "code",
   "execution_count": 5,
   "metadata": {},
   "outputs": [
    {
     "name": "stdout",
     "output_type": "stream",
     "text": [
      "for循环\n",
      "开始讲\n"
     ]
    }
   ],
   "source": [
    "print(\"for循环\")\n",
    "gender = \"man\"\n",
    "if gender == \"women\":\n",
    "    print(\"eat\")\n",
    "\n",
    "print(\"开始讲\")"
   ]
  },
  {
   "cell_type": "markdown",
   "metadata": {},
   "source": [
    "## 双向分支\n",
    "- if...else...语句\n",
    "         if 条件表达式：\n",
    "            语句1\n",
    "            语句2\n",
    "         else：\n",
    "            语\n",
    "            语句2\n",
    "            \n",
    "            \n",
    "- 双向分支由两个分支，当程序执行到if...else...语句的时候，一定会执行if或者else中的一个，也仅仅执行一个\n",
    "- 缩进问题，if和else是一个层级，其余语句块一个层级"
   ]
  },
  {
   "cell_type": "code",
   "execution_count": null,
   "metadata": {
    "collapsed": true
   },
   "outputs": [],
   "source": [
    "# input的作用是\n",
    "# 1.在屏幕上输出括号内的字符串\n",
    "# 2.接受用户输入的内容并返回到程序\n",
    "# 3.input返回的内容一定是字符串类型\n",
    "gander = input(\"请输入性别:\")\n",
    "print(\"你输入的性别是：{0}\".format(gender))\n",
    "\n",
    "if gender == \"man\":\n",
    "    print(\"来，让我们纪念一个今天，代码敲十遍\")\n",
    "else:\n",
    "    print(\"发糖喽\")\n",
    "        \n",
    "print(\"开始上课\")"
   ]
  },
  {
   "cell_type": "code",
   "execution_count": 11,
   "metadata": {
    "collapsed": true
   },
   "outputs": [],
   "source": [
    "# 考试成绩判断\n",
    "# 90以上优秀\n",
    "# 80-90良好\n",
    "# 70-80中\n",
    "# 60-70平\n",
    "# 60一下： 我没你这啥学生"
   ]
  },
  {
   "cell_type": "code",
   "execution_count": 18,
   "metadata": {},
   "outputs": [
    {
     "name": "stdout",
     "output_type": "stream",
     "text": [
      "请输入学生成绩：40\n",
      "gun\n"
     ]
    }
   ],
   "source": [
    "# score 存放学生成绩\n",
    "# 注意input的返回值类型\n",
    "score = input(\"请输入学生成绩：\")\n",
    "#需要吧str转换成int\n",
    "score = int(score)\n",
    "\n",
    "if score>=90:\n",
    "    print(\"A\")\n",
    "if score>=80 and score<90:\n",
    "    print(\"B\")\n",
    "if score>=70 and score<80:\n",
    "    print(\"C\")\n",
    "if score>=60 and score<70:\n",
    "    print(\"D\")\n",
    "if score<60:\n",
    "    print(\"gun\")"
   ]
  },
  {
   "cell_type": "markdown",
   "metadata": {},
   "source": [
    "## 多路分支 （冷读术）\n",
    "- 很多分支的情况，简称多路分支\n",
    "   \n",
    "        if 条件表达式：\n",
    "           语句1\n",
    "           ...\n",
    "        elif 条件表达式：\n",
    "           语句2\n",
    "           ...\n",
    "        elif 条件表达式：\n",
    "           语句3\n",
    "           ...\n",
    "           \n",
    "        else：\n",
    "           语句1\n",
    "           ...\n",
    "           \n",
    "           \n",
    "- elif 可以由很多个\n",
    "- else可选\n",
    "- 多路分支只会选一个执行"
   ]
  },
  {
   "cell_type": "code",
   "execution_count": null,
   "metadata": {
    "collapsed": true
   },
   "outputs": [],
   "source": [
    "# score 存放学生成绩\n",
    "# 注意input的返回值类型\n",
    "score = input(\"请输入学生成绩：\")\n",
    "#需要吧str转换成int\n",
    "score = int(score)\n",
    "\n",
    "if score>=90:\n",
    "    print(\"A\")\n",
    "elif score>=80 :\n",
    "    print(\"B\")\n",
    "elif score>=70 :\n",
    "    print(\"C\")\n",
    "elif score>=60 :\n",
    "    print(\"D\")\n",
    "else:\n",
    "    print(\"gun\")"
   ]
  },
  {
   "cell_type": "markdown",
   "metadata": {},
   "source": [
    "## if语句其他：\n",
    "- if语句可以嵌套使用，但不推荐\n",
    "- Python没有switch-case语句"
   ]
  },
  {
   "cell_type": "markdown",
   "metadata": {},
   "source": [
    "# 循环语句\n",
    "- 重复执行某些固定动作或者重复处理某些固定的实物\n",
    "- 分类\n",
    "  - for循环\n",
    "  - while循环\n",
    "## for循环\n",
    "- for循环\n",
    "\n",
    "         for 变量 in 序列：\n",
    "            语句1\n",
    "            语句2\n",
    "            ..."
   ]
  },
  {
   "cell_type": "code",
   "execution_count": 7,
   "metadata": {},
   "outputs": [
    {
     "name": "stdout",
     "output_type": "stream",
     "text": [
      "zhangsan\n",
      "lisi\n",
      "wangwu\n",
      "jingjing\n"
     ]
    }
   ],
   "source": [
    "# 列表就是一列数字或者其他值，一般用中括号表示\n",
    "# 例如   ['zhangsan','lisi','wangwu','jingjing']:\n",
    "# 打印学生列表姓名\n",
    "for name in ['zhangsan','lisi','wangwu','jingjing']:\n",
    "    print(name)"
   ]
  },
  {
   "cell_type": "code",
   "execution_count": 11,
   "metadata": {},
   "outputs": [
    {
     "name": "stdout",
     "output_type": "stream",
     "text": [
      "zhangsan\n",
      "不约，自重\n",
      "lisi\n",
      "不约，自重\n",
      "wangwu\n",
      "不约，自重\n",
      "jingjing\n",
      "我的最爱jingjing出现了\n"
     ]
    }
   ],
   "source": [
    "# 打印学生列表姓名\n",
    "# 如果是jj，那是我的最爱\n",
    "# 如果是别的学生，那就拒绝\n",
    "for name in ['zhangsan','lisi','wangwu','jingjing']:\n",
    "    print(name)\n",
    "    if name == \"jingjing\":\n",
    "        print(\"我的最爱{0}出现了\".format(name))\n",
    "    else:\n",
    "        print(\"不约，自重\")"
   ]
  },
  {
   "cell_type": "markdown",
   "metadata": {},
   "source": [
    "## range 介绍\n",
    "- 生成一个数字序列\n",
    "- 具体范围可以设定"
   ]
  },
  {
   "cell_type": "code",
   "execution_count": 14,
   "metadata": {},
   "outputs": [
    {
     "name": "stdout",
     "output_type": "stream",
     "text": [
      "1\n",
      "2\n",
      "3\n",
      "4\n",
      "5\n",
      "6\n",
      "7\n",
      "8\n",
      "9\n",
      "10\n"
     ]
    }
   ],
   "source": [
    "# range联系\n",
    "# 打印1-10\n",
    "# 注意，一般在Python，如果由表示数字范围的两个数，一般是包含左边数字不包含右边的数字\n",
    "# randint是特例，左右都包含\n",
    "# range函数在py2 和py3 中由严重区别\n",
    "for i in range(1,11):\n",
    "    print(i)"
   ]
  },
  {
   "cell_type": "markdown",
   "metadata": {},
   "source": [
    "## for-else语句\n",
    "- 当for循环结束的时候，会执行else语句\n",
    "- else 语句可选"
   ]
  },
  {
   "cell_type": "code",
   "execution_count": 16,
   "metadata": {},
   "outputs": [
    {
     "name": "stdout",
     "output_type": "stream",
     "text": [
      "zhangsan\n",
      "不约，自重\n",
      "lisi\n",
      "不约，自重\n",
      "wangwu\n",
      "不约，自重\n",
      "jingjing\n",
      "我的最爱jingjing出现了\n",
      "不会再爱了\n"
     ]
    }
   ],
   "source": [
    "# for-else语句\n",
    "# 打印列表中的同学\n",
    "# 如果没有在列表中，或者列表结束了，我们需要打印提示语句，表示不在爱了\n",
    "\n",
    "# 打印学生列表姓名\n",
    "# 如果是jj，那是我的最爱\n",
    "# 如果是别的学生，那就拒绝\n",
    "for name in ['zhangsan','lisi','wangwu','jingjing']:\n",
    "    print(name)\n",
    "    if name == \"jingjing\":\n",
    "        print(\"我的最爱{0}出现了\".format(name))\n",
    "    else:\n",
    "        print(\"不约，自重\")\n",
    "else:\n",
    "    print(\"不会再爱了\")"
   ]
  },
  {
   "cell_type": "markdown",
   "metadata": {},
   "source": [
    "## for 循环之break，contineu，pass\n",
    "- break：无条件结束整个循环，简称循环猝死\n",
    "- continue：无条件结束本次循环，重新进入下一轮循环\n",
    "- pass：表示略过,占位符"
   ]
  },
  {
   "cell_type": "code",
   "execution_count": 19,
   "metadata": {},
   "outputs": [
    {
     "name": "stdout",
     "output_type": "stream",
     "text": [
      "1\n",
      "2\n",
      "3\n",
      "4\n",
      "5\n",
      "6\n",
      "我找到了\n"
     ]
    }
   ],
   "source": [
    "# 在1-10的数字中，寻找数字7，一旦找到，打印出来，其余不做\n",
    "# for循环中，一般用i,k,m,n,或者indx，idx，item之类\n",
    "# 在Python中，如果循环变量名称不重要，可以用下划线（_）代替\n",
    "for i in range(1,11):\n",
    "    if i == 7:\n",
    "        print(\"我找到了\")\n",
    "        break\n",
    "    else:\n",
    "        print(i)"
   ]
  },
  {
   "cell_type": "code",
   "execution_count": 21,
   "metadata": {},
   "outputs": [
    {
     "name": "stdout",
     "output_type": "stream",
     "text": [
      "2是偶数\n",
      "4是偶数\n",
      "6是偶数\n",
      "8是偶数\n",
      "10是偶数\n"
     ]
    }
   ],
   "source": [
    "# 在1-10的数字中，寻找所有偶数然后打印出来\n",
    "# continue 语句联系\n",
    "\n",
    "for i in range(1,11):\n",
    "    if i % 2 == 1:\n",
    "        continue\n",
    "    else:\n",
    "        print(\"{0}是偶数\".format(i))"
   ]
  },
  {
   "cell_type": "code",
   "execution_count": 23,
   "metadata": {},
   "outputs": [
    {
     "name": "stdout",
     "output_type": "stream",
     "text": [
      "2是偶数\n",
      "4是偶数\n",
      "6是偶数\n",
      "8是偶数\n",
      "10是偶数\n"
     ]
    }
   ],
   "source": [
    "for i in range(1,11):\n",
    "    if i % 2 == 0:\n",
    "        print(\"{0}是偶数\".format(i))\n"
   ]
  },
  {
   "cell_type": "code",
   "execution_count": 25,
   "metadata": {},
   "outputs": [
    {
     "name": "stdout",
     "output_type": "stream",
     "text": [
      "2是偶数\n",
      "4是偶数\n",
      "6是偶数\n",
      "8是偶数\n",
      "10是偶数\n"
     ]
    }
   ],
   "source": [
    "for i in range(1,11):\n",
    "    if i % 2 == 1:\n",
    "        continue\n",
    "        \n",
    "    print(\"{0}是偶数\".format(i))\n"
   ]
  },
  {
   "cell_type": "code",
   "execution_count": 27,
   "metadata": {},
   "outputs": [
    {
     "name": "stdout",
     "output_type": "stream",
     "text": [
      "hehe\n",
      "hehe\n",
      "hehe\n",
      "hehe\n",
      "hehe\n",
      "hehe\n",
      "hehe\n",
      "hehe\n",
      "hehe\n",
      "hehe\n"
     ]
    }
   ],
   "source": [
    "# pass例子，一般用于站位\n",
    "# pass没有跳过功能\n",
    "\n",
    "for i in range(1,11):\n",
    "    pass\n",
    "    print(\"hehe\")"
   ]
  },
  {
   "cell_type": "code",
   "execution_count": null,
   "metadata": {
    "collapsed": true
   },
   "outputs": [],
   "source": []
  }
 ],
 "metadata": {
  "kernelspec": {
   "display_name": "Python 3",
   "language": "python",
   "name": "python3"
  },
  "language_info": {
   "codemirror_mode": {
    "name": "ipython",
    "version": 3
   },
   "file_extension": ".py",
   "mimetype": "text/x-python",
   "name": "python",
   "nbconvert_exporter": "python",
   "pygments_lexer": "ipython3",
   "version": "3.6.3"
  }
 },
 "nbformat": 4,
 "nbformat_minor": 2
}
