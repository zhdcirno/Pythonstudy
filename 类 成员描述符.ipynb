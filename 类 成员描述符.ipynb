{
 "cells": [
  {
   "cell_type": "code",
   "execution_count": 4,
   "metadata": {},
   "outputs": [
    {
     "name": "stdout",
     "output_type": "stream",
     "text": [
      "赵焕蝶\n"
     ]
    }
   ],
   "source": [
    "# 变量的三种用法\n",
    "\n",
    "class A():\n",
    "    def __init__(self):\n",
    "        self.name = \"haha\"\n",
    "        self.age = 18\n",
    "        \n",
    "        \n",
    "a = A()\n",
    "# 属性的三种用法\n",
    "# 1， 读取\n",
    "# 2， 读取\n",
    "# 3， 删除\n",
    "a.name = \"赵焕蝶\"\n",
    "print(a.name)\n",
    "del a.name  # 删除\n",
    "# print(a.name) 报错"
   ]
  },
  {
   "cell_type": "code",
   "execution_count": 7,
   "metadata": {},
   "outputs": [
    {
     "name": "stdout",
     "output_type": "stream",
     "text": [
      "haha\n",
      "被读取了\n",
      "haha\n"
     ]
    }
   ],
   "source": [
    "# 类属性 property\n",
    "# 应用场景：\n",
    "# 对变量除了普通三种操作，黑可以增加一些附加的操作，可以通过property操作\n",
    "\n",
    "class A():\n",
    "    def __init__(self):\n",
    "        self.name = \"haha\"\n",
    "        self.age = 18\n",
    "    # 此功能，是对变量进行读取操作的时候应该执行的函数功能\n",
    "    def fget(self):\n",
    "        print(\"被读取了\")\n",
    "        return self.name\n",
    "    # 模拟的是对变量进行写操作的时候执行的功能\n",
    "    def fset(self, name):\n",
    "        print(\"我被写入了\")\n",
    "        self.name = \"图灵：\" + name\n",
    "    # fedl 模拟的是删除变量的时候进行的操作    \n",
    "    def fdel(self):\n",
    "        pass\n",
    "    \n",
    "    # property的四个参数顺序是固定的\n",
    "    # 第一个参数代表读取的时候需要调用的函数\n",
    "    # 第二个参数代表写入的时候需要调用的函数\n",
    "    # 第三个是删除\n",
    "    name2 = property(fget, fset, fdel, \"这是一个property的例子\")\n",
    "    \n",
    "a = A()\n",
    "print(a.name)\n",
    "\n",
    "print(a.name2)"
   ]
  },
  {
   "cell_type": "markdown",
   "metadata": {},
   "source": [
    "# 9.抽象类\n",
    "- 抽象方法： 没有具体实现内容的方法成为抽象方法\n",
    "- 抽象方法的主要意义是规范了子类的行为和借口\n",
    "- 抽象的使用需要借助abc模块\n",
    "\n",
    "    import abc\n",
    "\n",
    "- 抽象类：包含抽象方法的类叫做抽象类，通常为ABC类\n",
    "- 抽象类的使用：\n",
    "    - 抽象类可以包含抽象方法，也可以包含具体方法\n",
    "    - 抽象类中可以有方法也可以由属性\n",
    "    - 抽象类不允许直接实例化\n",
    "    - 必须继承才可以使用，且继承的子类必须实现所有继承来的抽象方法\n",
    "    - 假定子类没有实现所有继承的抽象方法，则子类也不能实例化\n",
    "    - 抽象类的主要作用是设定类的标准，以便于开发的时候具有统一的规范"
   ]
  },
  {
   "cell_type": "code",
   "execution_count": 11,
   "metadata": {},
   "outputs": [
    {
     "name": "stdout",
     "output_type": "stream",
     "text": [
      "闻一下\n",
      "kiss me\n"
     ]
    }
   ],
   "source": [
    "# 抽象\n",
    "class Animel():\n",
    "    def sayHello(self):\n",
    "        pass\n",
    "    \n",
    "class Dog(Animel):\n",
    "    def sayHello(self):\n",
    "        print(\"闻一下\")\n",
    "\n",
    "class Person(Animel):\n",
    "    def sayHello(self):\n",
    "        print(\"kiss me\")\n",
    "\n",
    "d = Dog()\n",
    "d.sayHello()\n",
    "p = Person()\n",
    "p.sayHello()"
   ]
  },
  {
   "cell_type": "code",
   "execution_count": 14,
   "metadata": {},
   "outputs": [],
   "source": [
    "# 抽象类的实现\n",
    "\n",
    "import abc\n",
    "\n",
    "# 声明一个类并且指定当前类的元素\n",
    "class Human(metaclass=abc.ABCMeta):\n",
    "    \n",
    "    # 定义一个抽象的方法\n",
    "    @abc.abstractmethod\n",
    "    def smorking(self):\n",
    "        pass\n",
    "    \n",
    "    # 定义类抽象的方法\n",
    "    @abc.abstractclassmethod\n",
    "    def drink():\n",
    "        pass\n",
    "    \n",
    "    # 定义静态抽象方法\n",
    "    @abc.abstractstaticmethod\n",
    "    def play():\n",
    "        pass\n",
    "    \n",
    "    def sleep(self):\n",
    "        print(\"Sleeping...\")"
   ]
  },
  {
   "cell_type": "markdown",
   "metadata": {},
   "source": [
    "# 11.自定义类\n",
    "- 类其实是一个类定义和各种方法的组合\n",
    "- 可以定义类和函数，然后自己通过类直接赋值\n",
    "- 可以借助于MethodType实现\n",
    "- 借助于type实现\n",
    "- 利用元类实现 MetaClass\n",
    "    - 元类是类\n",
    "    - 备用来创造别的类\n"
   ]
  },
  {
   "cell_type": "code",
   "execution_count": 21,
   "metadata": {},
   "outputs": [
    {
     "ename": "SyntaxError",
     "evalue": "invalid syntax (<ipython-input-21-470c99c08b83>, line 6)",
     "output_type": "error",
     "traceback": [
      "\u001b[0;36m  File \u001b[0;32m\"<ipython-input-21-470c99c08b83>\"\u001b[0;36m, line \u001b[0;32m6\u001b[0m\n\u001b[0;31m    sayHello(\"月月\"):\u001b[0m\n\u001b[0m           ^\u001b[0m\n\u001b[0;31mSyntaxError\u001b[0m\u001b[0;31m:\u001b[0m invalid syntax\n"
     ]
    }
   ],
   "source": [
    "# 函数名可以当变量使用\n",
    "\n",
    "def sayHello(name):\n",
    "    print(\"{0}你好，来一发？\".format(name)\n",
    "    \n",
    "sayHello(\"月月\")\n",
    "\n",
    "lm = sayHello\n",
    "lm(\"yueyue\")"
   ]
  },
  {
   "cell_type": "code",
   "execution_count": 25,
   "metadata": {},
   "outputs": [
    {
     "name": "stdout",
     "output_type": "stream",
     "text": [
      "saying\n",
      "saying\n",
      "Saying\n"
     ]
    }
   ],
   "source": [
    "# 自定一个类\n",
    "\n",
    "class A():\n",
    "    pass\n",
    "\n",
    "def say(self):\n",
    "    print(\"saying\")\n",
    "    \n",
    "    \n",
    "class B():\n",
    "    def say(self):\n",
    "        print(\"Saying\")\n",
    "    \n",
    "say(9)\n",
    "\n",
    "A.say = say\n",
    "a = A()\n",
    "a.say()\n",
    "\n",
    "b = B()\n",
    "b.say()"
   ]
  },
  {
   "cell_type": "code",
   "execution_count": 30,
   "metadata": {},
   "outputs": [
    {
     "name": "stdout",
     "output_type": "stream",
     "text": [
      "saying\n"
     ]
    }
   ],
   "source": [
    "# 组装例子2\n",
    "from types import MethodType\n",
    "\n",
    "class A():\n",
    "    pass\n",
    "\n",
    "def say(self):\n",
    "    print(\"saying\")\n",
    "    \n",
    "a = A()\n",
    "a.say = MethodType(say,A)\n",
    "a.say()"
   ]
  },
  {
   "cell_type": "code",
   "execution_count": 38,
   "metadata": {},
   "outputs": [
    {
     "name": "stdout",
     "output_type": "stream",
     "text": [
      "saying...\n",
      "talking...\n"
     ]
    }
   ],
   "source": [
    "# 利用type造类\n",
    "\n",
    "# 先定义类应该具有的成员函数\n",
    "def say(self):\n",
    "    print(\"saying...\")\n",
    "def talk(self):\n",
    "    print(\"talking...\")\n",
    "    \n",
    "# 利用type创建一个类\n",
    "A = type(\"AName\", (object, ), {\"class_say\": say, \"class_talk\":talk})\n",
    "\n",
    "a = A()\n",
    "dir(a)\n",
    "a.class_say()\n",
    "a.class_talk()"
   ]
  },
  {
   "cell_type": "code",
   "execution_count": 44,
   "metadata": {},
   "outputs": [
    {
     "name": "stdout",
     "output_type": "stream",
     "text": [
      "我是元类\n"
     ]
    },
    {
     "data": {
      "text/plain": [
       "'000000'"
      ]
     },
     "execution_count": 44,
     "metadata": {},
     "output_type": "execute_result"
    }
   ],
   "source": [
    "# 元类演示\n",
    "\n",
    "# 元类写法是固定的，必须继承自type\n",
    "# 元类一般命名以MetaClass结尾\n",
    "class TulingMetaClass(type):\n",
    "    def __new__(cls, name, bases, attrs):\n",
    "        print(\"我是元类\")\n",
    "        attrs['id'] = '000000'\n",
    "        attrs['addr'] = \"雾之湖⑨号\"\n",
    "        return type.__new__(cls, name, bases, attrs)\n",
    "    \n",
    "# 元类定义完就可以使用，使用注意写法\n",
    "class Teacher(object, metaclass=TulingMetaClass):\n",
    "    pass\n",
    "\n",
    "t = Teacher()\n",
    "\n",
    "t.__dict__\n",
    "t.id"
   ]
  }
 ],
 "metadata": {
  "kernelspec": {
   "display_name": "Python 3",
   "language": "python",
   "name": "python3"
  },
  "language_info": {
   "codemirror_mode": {
    "name": "ipython",
    "version": 3
   },
   "file_extension": ".py",
   "mimetype": "text/x-python",
   "name": "python",
   "nbconvert_exporter": "python",
   "pygments_lexer": "ipython3",
   "version": "3.6.3"
  }
 },
 "nbformat": 4,
 "nbformat_minor": 2
}
