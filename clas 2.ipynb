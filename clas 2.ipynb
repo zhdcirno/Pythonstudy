{
 "cells": [
  {
   "cell_type": "code",
   "execution_count": 3,
   "metadata": {},
   "outputs": [
    {
     "name": "stdout",
     "output_type": "stream",
     "text": [
      "hello world\n"
     ]
    }
   ],
   "source": [
    "print(\"hello world\") # 打印hello world"
   ]
  },
  {
   "cell_type": "markdown",
   "metadata": {},
   "source": [
    "# 注释\n",
    " - 机器不执行此部分\n",
    " - 给人看的\n",
    " - 分类：\n",
    "   - 行注释 以#号开头，后部分为注释\n",
    "   - 块注释 以‘’‘开头，’‘’介绍，中间部分为变量\n",
    "   "
   ]
  },
  {
   "cell_type": "markdown",
   "metadata": {},
   "source": [
    "#  变量\n",
    "  - 程序=数据结构+算法\n",
    "  - 变量就是可以重复使用的一个量，或者叫一个代号\n",
    "  - 变量命名规则\n",
    "    - 变量命名包括数字，大小写字母，下划线或更多，但推荐只使用\n",
    "    - 数字不可以打头\n",
    "      - 5man不可以，man5可以\n",
    "    - Python中，下划线开头的内容有特殊含义，不建议使用\n",
    "    - 大小写不一样（大小写敏感\n",
    "    - 推荐：\n",
    "      - 使用有固定含义的英文单词或者缩写，srv=server,skt=socket,一般以posix命名规则为主\n",
    "      - 驼峰命名法\n",
    "        - 名称以单词自动链接，每个单词字母小写\n",
    "          - 大驼峰，每个单词第一个字母均大写\n",
    "            -  在Python中给类命名用此法\n",
    "            - MyFirstLove\n",
    "          - 小驼峰，类似大驼峰，但第一个字母小写\n",
    "            - 在Python中给普通变量或者函数命名\n",
    "            - 如myFirstLove\n",
    "          - posix写法\n",
    "            - 多个单词用下划线链接\n",
    "            - 单词全部小写\n",
    "            - my_first_love\n",
    "     - 保留字和关键字，变量命名必须避开，不能和保留字关键字重复\n",
    "        - class，def，break，for"
   ]
  },
  {
   "cell_type": "code",
   "execution_count": 10,
   "metadata": {},
   "outputs": [
    {
     "name": "stdout",
     "output_type": "stream",
     "text": [
      "['False', 'None', 'True', 'and', 'as', 'assert', 'break', 'class', 'continue', 'def', 'del', 'elif', 'else', 'except', 'finally', 'for', 'from', 'global', 'if', 'import', 'in', 'is', 'lambda', 'nonlocal', 'not', 'or', 'pass', 'raise', 'return', 'try', 'while', 'with', 'yield']\n"
     ]
    }
   ],
   "source": [
    "# 查看关键字的方法\n",
    "import keyword #引入关键字模块\n",
    "# 打印出系统全部关键字\n",
    "print(keyword.kwlist)"
   ]
  },
  {
   "cell_type": "markdown",
   "metadata": {},
   "source": [
    "# 变量声明\n",
    "  - var_name = var_value\n",
    "  - var1 = var2 = var3 = var_value\n",
    "  - var1,var2,var3 = v1,v2,v3"
   ]
  },
  {
   "cell_type": "code",
   "execution_count": 13,
   "metadata": {},
   "outputs": [
    {
     "name": "stdout",
     "output_type": "stream",
     "text": [
      "18\n",
      "18\n",
      "18\n",
      "18\n",
      "18\n",
      "12\n",
      "24\n",
      "25\n"
     ]
    }
   ],
   "source": [
    "# 定义变量a g e，吧18放入变量age中\n",
    "age = 18\n",
    "print(age)\n",
    "print(18)\n",
    "\n",
    "# 给age1，age2，age3 放入同一个内容或者值\n",
    "age1 = age2 = age3 = 18\n",
    "print(age1)\n",
    "print(age2)\n",
    "print(age3)\n",
    "\n",
    "\n",
    "age4,age5,age6 = 12,24,25\n",
    "print(age4)\n",
    "print(age5)\n",
    "print(age6)"
   ]
  },
  {
   "cell_type": "markdown",
   "metadata": {},
   "source": [
    "## 变量类型\n",
    "- 严格意义上讲，Python只有一种类型\n",
    "- 标准数据一共六种\n",
    "  - 数字类型Number\n",
    "  - 字符串类型str\n",
    "  - 列表list\n",
    "  - 元祖tuple\n",
    "  - 字典 Dictionary\n",
    "  - 集合set"
   ]
  },
  {
   "cell_type": "markdown",
   "metadata": {},
   "source": [
    "## Number数字类型\n",
    "- 数字类型没有大小限制（与其他不同，相当于big\n",
    "### 整数\n",
    "- 没有小数部分，表示个数的数字\n",
    "- 自然数，0，负自然数\n",
    "- 整数分进制\n",
    "  - 二进制\n",
    "    - 计算机常用\n",
    "    - 是计算机唯一能直接理解的数字\n",
    "    - 便是为0b开头的0,1代码\n",
    "    - 例如 0b10110,0b10001\n",
    "  - 八进制\n",
    "    - 不常用\n",
    "    - 以0o开头的包含0-7的数字\n",
    "  - 十六进制\n",
    "    - 逢16进1\n",
    "    - 其实是每四位二进制表示一个十六进制数\n",
    "    - 包含0-9，a-f\n",
    "    - 数字上以0x开头表示\n",
    "  - 十进制\n",
    "    - 18,28,488\n"
   ]
  },
  {
   "cell_type": "code",
   "execution_count": 17,
   "metadata": {},
   "outputs": [
    {
     "name": "stdout",
     "output_type": "stream",
     "text": [
      "18\n",
      "18\n",
      "66\n",
      "255\n"
     ]
    }
   ],
   "source": [
    "age = 18\n",
    "print(18)\n",
    "\n",
    "age = 0b10010\n",
    "print(age)\n",
    "\n",
    "age = 0o102\n",
    "print(age)\n",
    "\n",
    "age = 0xff #十六进制的 1111,111\n",
    "print(age)"
   ]
  },
  {
   "cell_type": "markdown",
   "metadata": {},
   "source": [
    "## 浮点数\n",
    "- 小数\n",
    "- 计算机表示浮点数可以有条件省略\n",
    "- 3.1415\n",
    "- 3.\n",
    "- .5\n",
    "- 科学计数法\n",
    "  - 定义和数学第一一致\n",
    "  - 写法是用e/E后面表示10的指数\n",
    "  - 176.23 == 1.7634e2\n",
    "  - 0.876 == 8.76e-1"
   ]
  },
  {
   "cell_type": "code",
   "execution_count": 20,
   "metadata": {},
   "outputs": [
    {
     "name": "stdout",
     "output_type": "stream",
     "text": [
      "156.32\n",
      "0.2\n",
      "0.6\n"
     ]
    }
   ],
   "source": [
    "height = 156.32\n",
    "print(height)\n",
    "\n",
    "shili = 0.2\n",
    "print(shili)\n",
    "\n",
    "shili = .6\n",
    "print(shili)\n"
   ]
  },
  {
   "cell_type": "markdown",
   "metadata": {},
   "source": [
    "## 复数complex\n",
    "- 定义同数学一致\n",
    "- 一个由实虚构成的数字\n",
    "- 虚部用j/J表示"
   ]
  },
  {
   "cell_type": "markdown",
   "metadata": {},
   "source": [
    "### 布尔值\n",
    "- 表示真假的值\n",
    "- 只有两个值，True/False\n",
    "- 可以和数字直接操作"
   ]
  },
  {
   "cell_type": "code",
   "execution_count": 21,
   "metadata": {},
   "outputs": [
    {
     "name": "stdout",
     "output_type": "stream",
     "text": [
      "19\n"
     ]
    }
   ],
   "source": [
    "#布尔值操作\n",
    "age = 18 + True\n",
    "print(age)"
   ]
  },
  {
   "cell_type": "markdown",
   "metadata": {},
   "source": [
    "## 字符串\n",
    "- 用来表示一串文字信息\n",
    "- 如何表示\n",
    "  - 单引号\n",
    "  - 双引号\n",
    "  - 三引号（三单or三双）\n",
    "- 单双引号交错使用"
   ]
  },
  {
   "cell_type": "code",
   "execution_count": 27,
   "metadata": {},
   "outputs": [
    {
     "name": "stdout",
     "output_type": "stream",
     "text": [
      "i love wangdan\n",
      "我爱王丹\n",
      "<a style=\"color:red\"> 哈哈哈</a>\n",
      "\n",
      "我爱王丹\n",
      "嘻嘻嘻\n",
      "\n"
     ]
    }
   ],
   "source": [
    "love = \"i love wangdan\"\n",
    "print(love)\n",
    "\n",
    "love = '我爱王丹'\n",
    "print(love)\n",
    "\n",
    "# 单双引号交错使用例子\n",
    "# <a style=\"color:red\"> 哈哈哈</a>\n",
    "# 用引号表示上面\n",
    "html = '<a style=\"color:red\"> 哈哈哈</a>'\n",
    "print(html)\n",
    "\n",
    "html = '''\n",
    "我爱王丹\n",
    "嘻嘻嘻\n",
    "'''\n",
    "\n",
    "print(html)"
   ]
  },
  {
   "cell_type": "code",
   "execution_count": null,
   "metadata": {
    "collapsed": true
   },
   "outputs": [],
   "source": []
  }
 ],
 "metadata": {
  "kernelspec": {
   "display_name": "Python 3",
   "language": "python",
   "name": "python3"
  },
  "language_info": {
   "codemirror_mode": {
    "name": "ipython",
    "version": 3
   },
   "file_extension": ".py",
   "mimetype": "text/x-python",
   "name": "python",
   "nbconvert_exporter": "python",
   "pygments_lexer": "ipython3",
   "version": "3.6.3"
  }
 },
 "nbformat": 4,
 "nbformat_minor": 2
}
