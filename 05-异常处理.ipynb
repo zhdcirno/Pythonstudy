{
 "cells": [
  {
   "cell_type": "markdown",
   "metadata": {},
   "source": [
    "# 异常\n",
    "- 广义上的错误分为错误和异常\n",
    "- 错误指的是可以认为避免\n",
    "- 异常是指在语法逻辑正常的前提下，出现的问题 \n",
    "- 在Python中，异常是一个类，可以使用和处理\n"
   ]
  },
  {
   "cell_type": "markdown",
   "metadata": {
    "collapsed": true
   },
   "source": [
    "# 异常分类"
   ]
  },
  {
   "cell_type": "code",
   "execution_count": 2,
   "metadata": {},
   "outputs": [
    {
     "ename": "IndexError",
     "evalue": "list index out of range",
     "output_type": "error",
     "traceback": [
      "\u001b[0;31m---------------------------------------------------------------------------\u001b[0m",
      "\u001b[0;31mIndexError\u001b[0m                                Traceback (most recent call last)",
      "\u001b[0;32m<ipython-input-2-ebdf703cf090>\u001b[0m in \u001b[0;36m<module>\u001b[0;34m()\u001b[0m\n\u001b[1;32m      1\u001b[0m \u001b[0ml\u001b[0m \u001b[0;34m=\u001b[0m \u001b[0;34m[\u001b[0m\u001b[0;36m1\u001b[0m\u001b[0;34m,\u001b[0m\u001b[0;36m2\u001b[0m\u001b[0;34m,\u001b[0m\u001b[0;36m3\u001b[0m\u001b[0;34m,\u001b[0m\u001b[0;36m4\u001b[0m\u001b[0;34m,\u001b[0m\u001b[0;36m5\u001b[0m\u001b[0;34m]\u001b[0m\u001b[0;34m\u001b[0m\u001b[0m\n\u001b[0;32m----> 2\u001b[0;31m \u001b[0mprint\u001b[0m\u001b[0;34m(\u001b[0m\u001b[0ml\u001b[0m\u001b[0;34m[\u001b[0m\u001b[0;36m10\u001b[0m\u001b[0;34m]\u001b[0m\u001b[0;34m)\u001b[0m\u001b[0;34m\u001b[0m\u001b[0m\n\u001b[0m",
      "\u001b[0;31mIndexError\u001b[0m: list index out of range"
     ]
    }
   ],
   "source": [
    "l = [1,2,3,4,5]\n",
    "print(l[10])"
   ]
  },
  {
   "cell_type": "code",
   "execution_count": 4,
   "metadata": {},
   "outputs": [
    {
     "ename": "AttributeError",
     "evalue": "'list' object has no attribute 'liudana'",
     "output_type": "error",
     "traceback": [
      "\u001b[0;31m---------------------------------------------------------------------------\u001b[0m",
      "\u001b[0;31mAttributeError\u001b[0m                            Traceback (most recent call last)",
      "\u001b[0;32m<ipython-input-4-64cf4245c151>\u001b[0m in \u001b[0;36m<module>\u001b[0;34m()\u001b[0m\n\u001b[1;32m      1\u001b[0m \u001b[0ml\u001b[0m \u001b[0;34m=\u001b[0m \u001b[0;34m[\u001b[0m\u001b[0;36m1\u001b[0m\u001b[0;34m,\u001b[0m\u001b[0;36m2\u001b[0m\u001b[0;34m,\u001b[0m\u001b[0;36m3\u001b[0m\u001b[0;34m,\u001b[0m\u001b[0;36m4\u001b[0m\u001b[0;34m,\u001b[0m\u001b[0;36m5\u001b[0m\u001b[0;34m]\u001b[0m\u001b[0;34m\u001b[0m\u001b[0m\n\u001b[0;32m----> 2\u001b[0;31m \u001b[0mprint\u001b[0m\u001b[0;34m(\u001b[0m\u001b[0ml\u001b[0m\u001b[0;34m.\u001b[0m\u001b[0mliudana\u001b[0m\u001b[0;34m)\u001b[0m\u001b[0;34m\u001b[0m\u001b[0m\n\u001b[0m",
      "\u001b[0;31mAttributeError\u001b[0m: 'list' object has no attribute 'liudana'"
     ]
    }
   ],
   "source": [
    "l = [1,2,3,4,5]\n",
    "print(l.liudana)"
   ]
  },
  {
   "cell_type": "code",
   "execution_count": 5,
   "metadata": {},
   "outputs": [
    {
     "ename": "SyntaxError",
     "evalue": "invalid syntax (<ipython-input-5-23a92fa62b94>, line 1)",
     "output_type": "error",
     "traceback": [
      "\u001b[0;36m  File \u001b[0;32m\"<ipython-input-5-23a92fa62b94>\"\u001b[0;36m, line \u001b[0;32m1\u001b[0m\n\u001b[0;31m    l = [1,2,3,4,,5]\u001b[0m\n\u001b[0m                 ^\u001b[0m\n\u001b[0;31mSyntaxError\u001b[0m\u001b[0;31m:\u001b[0m invalid syntax\n"
     ]
    }
   ],
   "source": [
    "l = [1,2,3,4,,5]\n",
    "print(l[10])"
   ]
  },
  {
   "cell_type": "code",
   "execution_count": 7,
   "metadata": {},
   "outputs": [
    {
     "ename": "ZeroDivisionError",
     "evalue": "division by zero",
     "output_type": "error",
     "traceback": [
      "\u001b[0;31m---------------------------------------------------------------------------\u001b[0m",
      "\u001b[0;31mZeroDivisionError\u001b[0m                         Traceback (most recent call last)",
      "\u001b[0;32m<ipython-input-7-67cb58ff458d>\u001b[0m in \u001b[0;36m<module>\u001b[0;34m()\u001b[0m\n\u001b[0;32m----> 1\u001b[0;31m \u001b[0mprint\u001b[0m\u001b[0;34m(\u001b[0m\u001b[0;36m100\u001b[0m\u001b[0;34m/\u001b[0m\u001b[0;36m0\u001b[0m\u001b[0;34m)\u001b[0m\u001b[0;34m\u001b[0m\u001b[0m\n\u001b[0m",
      "\u001b[0;31mZeroDivisionError\u001b[0m: division by zero"
     ]
    }
   ],
   "source": [
    "print(100/0)"
   ]
  },
  {
   "cell_type": "code",
   "execution_count": 9,
   "metadata": {},
   "outputs": [
    {
     "name": "stdout",
     "output_type": "stream",
     "text": [
      "1\n",
      "100.0\n"
     ]
    }
   ],
   "source": [
    "num = int(input(\"\"))\n",
    "print(100/num)"
   ]
  },
  {
   "cell_type": "markdown",
   "metadata": {},
   "source": [
    "# 异常处理\n",
    "- 不能保证程序用于正确运行\n",
    "- 单双，必须保证程序在最坏的情况下得到的问题被妥善处理\n",
    "- Python的异常处理模块全部语法为：\n",
    "    - try：\n",
    "        尝试实现某个操作\n",
    "        如果没有出现异常，任务就可以完成\n",
    "        如果出现异常，将异常从当前代码块扔出去解决\n",
    "    \n",
    "    - except 异常处理1：\n",
    "        解决方案1：用于尝试在此处处理异常解决问题    \n",
    "    \n",
    "    - except 异常类型2：\n",
    "        解决方案2：用于尝试在此处处理异常解决问题\n",
    "        \n",
    "    - except （异常类型1， 异常类型2.。。）\n",
    "        解决方案：针对多个异常使用相同的处理方式\n",
    "        \n",
    "    - except：\n",
    "        解决方案：所有异常的解决方案\n",
    "        \n",
    "    - else：\n",
    "        如果没有出现任何异常，将执行此处的代码\n",
    "        \n",
    "    - finally：\n",
    "        必须执行的代码（无论有没有出错）\n",
    "        \n",
    "- 流程\n",
    "    1， 执行try下面的语句\n",
    "    2， 如果出现异常，则在except语句里查找对象异常进行处理\n",
    "    3， 如果没有出现异常，则执行else语句内容\n",
    "    4， 最后，不管出不出现异常，都要执行finally语句  \n",
    "- 除except（最少一个）以为，else和finally可以选择"
   ]
  },
  {
   "cell_type": "code",
   "execution_count": 21,
   "metadata": {},
   "outputs": [
    {
     "name": "stdout",
     "output_type": "stream",
     "text": [
      "请输入数字0\n",
      "啥玩意\n"
     ]
    }
   ],
   "source": [
    "# 异常案例\n",
    "try:\n",
    "    num = int(input(\"请输入数字\"))\n",
    "    rst = 100/num\n",
    "    print(\"计算结果是：{0}\".format(rst))\n",
    "except:\n",
    "    print(\"啥玩意\")\n",
    "    exit()"
   ]
  },
  {
   "cell_type": "code",
   "execution_count": null,
   "metadata": {},
   "outputs": [],
   "source": [
    "# 异常案例\n",
    "# 给出简单的提示信息\n",
    "try:\n",
    "    num = int(input(\"请输入数字\"))\n",
    "    rst = 100/num\n",
    "    print(\"计算结果是：{0}\".format(rst))\n",
    "# 捕获异常后，把异常实例化，出错信息会在实例化里\n",
    "# 注意以下写法\n",
    "# 以下语句是捕获ZeroDivisionError异常并实例化e\n",
    "except ZeroDivisionError as e:\n",
    "    print(\"啥玩意\")\n",
    "    print(e)\n",
    "    exit()"
   ]
  },
  {
   "cell_type": "code",
   "execution_count": 2,
   "metadata": {},
   "outputs": [
    {
     "name": "stdout",
     "output_type": "stream",
     "text": [
      "请输入数字asg\n",
      "我也不知道哪里出错了\n",
      "invalid literal for int() with base 10: 'asg'\n",
      "hhhhh\n"
     ]
    }
   ],
   "source": [
    "# 异常案例\n",
    "# 给出简单的提示信息\n",
    "try:\n",
    "    num = int(input(\"请输入数字\"))\n",
    "    rst = 100/num\n",
    "    print(\"计算结果是：{0}\".format(rst))\n",
    "# 如果是多种error的情况\n",
    "# 需要吧越具体的错误，越往前放置\n",
    "# 在异常类继承关系中，越是子类的异常，越要往前放\n",
    "# 越是父类的，越往后\n",
    "\n",
    "# 在处理异常的时候，一旦拦截到某一个异常，则不在继续向下查看\n",
    "# 胆码，即有finally则执行finally语句块，否则执行下一个大语句块\n",
    "except ZeroDivisionError as e:\n",
    "    print(\"啥玩意\")\n",
    "    print(e)\n",
    "    exit()\n",
    "except NameError as e:\n",
    "    print(\"名称错误\")\n",
    "    exit()\n",
    "except AttributeError as e:\n",
    "    print(\"属性有问题\")\n",
    "    print(e)\n",
    "    exit()\n",
    "# 所有异常都是继承Exception\n",
    "# 如果写上下面这句话，任何异常都会拦截住\n",
    "# 而且，下面这句话一定是最后一个exception\n",
    "except Exception as e:\n",
    "    print(\"我也不知道哪里出错了\")\n",
    "    print(e)\n",
    "    \n",
    "print(\"hhhhh\")"
   ]
  },
  {
   "cell_type": "markdown",
   "metadata": {},
   "source": [
    "# 用户手动引发异常\n",
    "- 当某些情况，用户希望自己引发一个异常的时候，可以使用\n",
    "- raise 关键字来引发异常"
   ]
  },
  {
   "cell_type": "code",
   "execution_count": 9,
   "metadata": {},
   "outputs": [
    {
     "name": "stdout",
     "output_type": "stream",
     "text": [
      "我爱王丹\n",
      "3.14\n",
      "ve\n",
      "嘤嘤嘤\n"
     ]
    }
   ],
   "source": [
    "# raise案例\n",
    "try:\n",
    "    print(\"我爱王丹\")\n",
    "    print(3.14)\n",
    "    # 手动引发一个异常\n",
    "    # 注意语法：　ｒａｉｓｅ　ＥｒｒｏｒＣｌａｓｓＮａｍｅ\n",
    "    raise ValueError\n",
    "    print(\"还没完啊\")\n",
    "except NameError as e:\n",
    "    print(\"ne\")\n",
    "except ValueError as e:\n",
    "    print(\"ve\")\n",
    "except Exception as e:\n",
    "    print(\"有异常\")\n",
    "finally: \n",
    "    print(\"嘤嘤嘤\")"
   ]
  },
  {
   "cell_type": "code",
   "execution_count": 11,
   "metadata": {},
   "outputs": [
    {
     "name": "stdout",
     "output_type": "stream",
     "text": [
      "我爱王丹\n",
      "3.14\n",
      "de\n",
      "嘤嘤嘤\n"
     ]
    }
   ],
   "source": [
    "# raise 案例２\n",
    "# 自己定义异常\n",
    "# 需要注意： 自定义异常必须是系统异常的子类\n",
    "class DanaError(ValueError):\n",
    "    pass\n",
    "\n",
    "try:\n",
    "    print(\"我爱王丹\")\n",
    "    print(3.14)\n",
    "    # 手动引发一个异常\n",
    "    # 注意语法：　ｒａｉｓｅ　ＥｒｒｏｒＣｌａｓｓＮａｍｅ\n",
    "    raise DanaError\n",
    "    print(\"还没完啊\")\n",
    "except NameError as e:\n",
    "    print(\"ne\")\n",
    "except DanaError as e:\n",
    "    print(\"de\")\n",
    "except ValueError as e:\n",
    "    print(\"ve\")\n",
    "except Exception as e:\n",
    "    print(\"有异常\")\n",
    "finally: \n",
    "    print(\"嘤嘤嘤\")"
   ]
  },
  {
   "cell_type": "code",
   "execution_count": null,
   "metadata": {},
   "outputs": [],
   "source": [
    "# else 语句案例\n",
    "\n",
    "# 异常案例\n",
    "# 给出简单的提示信息\n",
    "try:\n",
    "    num = int(input(\"请输入数字\"))\n",
    "    rst = 100/num\n",
    "    print(\"计算结果是：{0}\".format(rst))\n",
    "except Exception as e:\n",
    "    print(\"e\")\n",
    "else:\n",
    "    print(\"no e\")\n",
    "finally:\n",
    "    print(\"xxx\")"
   ]
  },
  {
   "cell_type": "code",
   "execution_count": null,
   "metadata": {
    "collapsed": true
   },
   "outputs": [],
   "source": [
    "# 关于自定义异常\n",
    "- 只要是raise异常，则推荐自定义异常\n",
    "- 在自定义异常的时候，一般包含以下内容：\n",
    "    - 自定义发生异常的异常代码\n",
    "    - 自定义发生异常后的问题提示\n",
    "    - 自定义发生异常的行数\n",
    "- 最终的目的是，一旦发生异常，方便快速定位错误"
   ]
  },
  {
   "cell_type": "code",
   "execution_count": null,
   "metadata": {
    "collapsed": true
   },
   "outputs": [],
   "source": []
  }
 ],
 "metadata": {
  "kernelspec": {
   "display_name": "Python 3",
   "language": "python",
   "name": "python3"
  },
  "language_info": {
   "codemirror_mode": {
    "name": "ipython",
    "version": 3
   },
   "file_extension": ".py",
   "mimetype": "text/x-python",
   "name": "python",
   "nbconvert_exporter": "python",
   "pygments_lexer": "ipython3",
   "version": "3.6.3"
  }
 },
 "nbformat": 4,
 "nbformat_minor": 2
}
